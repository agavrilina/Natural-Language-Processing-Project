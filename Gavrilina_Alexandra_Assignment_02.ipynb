{
  "nbformat": 4,
  "nbformat_minor": 0,
  "metadata": {
    "kernelspec": {
      "display_name": "Python 3",
      "language": "python",
      "name": "python3"
    },
    "language_info": {
      "codemirror_mode": {
        "name": "ipython",
        "version": 3
      },
      "file_extension": ".py",
      "mimetype": "text/x-python",
      "name": "python",
      "nbconvert_exporter": "python",
      "pygments_lexer": "ipython3",
      "version": "3.6.3"
    },
    "colab": {
      "name": "Gavrilina_Alexandra_Assignment 02.ipynb",
      "provenance": [],
      "collapsed_sections": []
    },
    "widgets": {
      "application/vnd.jupyter.widget-state+json": {
        "c5a90daeeea54384b35383724a5605e2": {
          "model_module": "@jupyter-widgets/controls",
          "model_name": "VBoxModel",
          "state": {
            "_view_name": "VBoxView",
            "_dom_classes": [
              "widget-interact"
            ],
            "_model_name": "VBoxModel",
            "_view_module": "@jupyter-widgets/controls",
            "_model_module_version": "1.5.0",
            "_view_count": null,
            "_view_module_version": "1.5.0",
            "box_style": "",
            "layout": "IPY_MODEL_5a3d4dbf9add46cfbb55fe9db4a030eb",
            "_model_module": "@jupyter-widgets/controls",
            "children": [
              "IPY_MODEL_4c4bd156ed114047938267d3d938765e",
              "IPY_MODEL_107e6e2100ff4a689f8e2d4987b76bbd",
              "IPY_MODEL_eb69a92950a74016a29c31df673b1820"
            ]
          }
        },
        "5a3d4dbf9add46cfbb55fe9db4a030eb": {
          "model_module": "@jupyter-widgets/base",
          "model_name": "LayoutModel",
          "state": {
            "_view_name": "LayoutView",
            "grid_template_rows": null,
            "right": null,
            "justify_content": null,
            "_view_module": "@jupyter-widgets/base",
            "overflow": null,
            "_model_module_version": "1.2.0",
            "_view_count": null,
            "flex_flow": null,
            "width": null,
            "min_width": null,
            "border": null,
            "align_items": null,
            "bottom": null,
            "_model_module": "@jupyter-widgets/base",
            "top": null,
            "grid_column": null,
            "overflow_y": null,
            "overflow_x": null,
            "grid_auto_flow": null,
            "grid_area": null,
            "grid_template_columns": null,
            "flex": null,
            "_model_name": "LayoutModel",
            "justify_items": null,
            "grid_row": null,
            "max_height": null,
            "align_content": null,
            "visibility": null,
            "align_self": null,
            "height": null,
            "min_height": null,
            "padding": null,
            "grid_auto_rows": null,
            "grid_gap": null,
            "max_width": null,
            "order": null,
            "_view_module_version": "1.2.0",
            "grid_template_areas": null,
            "object_position": null,
            "object_fit": null,
            "grid_auto_columns": null,
            "margin": null,
            "display": null,
            "left": null
          }
        },
        "4c4bd156ed114047938267d3d938765e": {
          "model_module": "@jupyter-widgets/controls",
          "model_name": "DropdownModel",
          "state": {
            "_options_labels": [
              "degree",
              "weighted_degree",
              "eigenvector",
              "closeness",
              "betweenness",
              "weighted_betweenness",
              "pagerank"
            ],
            "_view_name": "DropdownView",
            "style": "IPY_MODEL_db3ede6266b3419e9cb24b64822a7081",
            "_dom_classes": [],
            "description": "col",
            "_model_name": "DropdownModel",
            "index": 0,
            "_view_module": "@jupyter-widgets/controls",
            "_model_module_version": "1.5.0",
            "_view_count": null,
            "disabled": false,
            "_view_module_version": "1.5.0",
            "description_tooltip": null,
            "_model_module": "@jupyter-widgets/controls",
            "layout": "IPY_MODEL_7d8c9316bb2e4042954978aaa00488b8"
          }
        },
        "107e6e2100ff4a689f8e2d4987b76bbd": {
          "model_module": "@jupyter-widgets/controls",
          "model_name": "IntSliderModel",
          "state": {
            "_view_name": "IntSliderView",
            "style": "IPY_MODEL_9c131490264343e3b9ea296d61d6d470",
            "_dom_classes": [],
            "description": "topn",
            "step": 1,
            "_model_name": "IntSliderModel",
            "orientation": "horizontal",
            "max": 30,
            "_view_module": "@jupyter-widgets/controls",
            "_model_module_version": "1.5.0",
            "value": 15,
            "_view_count": null,
            "disabled": false,
            "_view_module_version": "1.5.0",
            "min": 1,
            "continuous_update": true,
            "readout_format": "d",
            "description_tooltip": null,
            "readout": true,
            "_model_module": "@jupyter-widgets/controls",
            "layout": "IPY_MODEL_b45b6b83d74244b19a500fd9da385bfc"
          }
        },
        "eb69a92950a74016a29c31df673b1820": {
          "model_module": "@jupyter-widgets/output",
          "model_name": "OutputModel",
          "state": {
            "_view_name": "OutputView",
            "msg_id": "",
            "_dom_classes": [],
            "_model_name": "OutputModel",
            "outputs": [
              {
                "output_type": "display_data",
                "metadata": {
                  "tags": []
                },
                "text/html": "<style  type=\"text/css\" >\n#T_56d388c6_61bf_11eb_9f9f_0242ac1c0002row0_col0,#T_56d388c6_61bf_11eb_9f9f_0242ac1c0002row1_col0,#T_56d388c6_61bf_11eb_9f9f_0242ac1c0002row2_col0,#T_56d388c6_61bf_11eb_9f9f_0242ac1c0002row3_col0,#T_56d388c6_61bf_11eb_9f9f_0242ac1c0002row4_col0,#T_56d388c6_61bf_11eb_9f9f_0242ac1c0002row5_col0,#T_56d388c6_61bf_11eb_9f9f_0242ac1c0002row6_col0,#T_56d388c6_61bf_11eb_9f9f_0242ac1c0002row7_col0,#T_56d388c6_61bf_11eb_9f9f_0242ac1c0002row8_col0,#T_56d388c6_61bf_11eb_9f9f_0242ac1c0002row9_col0,#T_56d388c6_61bf_11eb_9f9f_0242ac1c0002row10_col0,#T_56d388c6_61bf_11eb_9f9f_0242ac1c0002row11_col0,#T_56d388c6_61bf_11eb_9f9f_0242ac1c0002row12_col0,#T_56d388c6_61bf_11eb_9f9f_0242ac1c0002row13_col0,#T_56d388c6_61bf_11eb_9f9f_0242ac1c0002row14_col0{\n            background-color:  #dad4f2;\n        }</style><table id=\"T_56d388c6_61bf_11eb_9f9f_0242ac1c0002\" ><thead>    <tr>        <th class=\"blank level0\" ></th>        <th class=\"col_heading level0 col0\" >degree</th>        <th class=\"col_heading level0 col1\" >weighted_degree</th>        <th class=\"col_heading level0 col2\" >eigenvector</th>        <th class=\"col_heading level0 col3\" >closeness</th>        <th class=\"col_heading level0 col4\" >betweenness</th>        <th class=\"col_heading level0 col5\" >weighted_betweenness</th>        <th class=\"col_heading level0 col6\" >pagerank</th>    </tr></thead><tbody>\n                <tr>\n                        <th id=\"T_56d388c6_61bf_11eb_9f9f_0242ac1c0002level0_row0\" class=\"row_heading level0 row0\" >Tyrion Lannister</th>\n                        <td id=\"T_56d388c6_61bf_11eb_9f9f_0242ac1c0002row0_col0\" class=\"data row0 col0\" >1</td>\n                        <td id=\"T_56d388c6_61bf_11eb_9f9f_0242ac1c0002row0_col1\" class=\"data row0 col1\" >1</td>\n                        <td id=\"T_56d388c6_61bf_11eb_9f9f_0242ac1c0002row0_col2\" class=\"data row0 col2\" >1</td>\n                        <td id=\"T_56d388c6_61bf_11eb_9f9f_0242ac1c0002row0_col3\" class=\"data row0 col3\" >1</td>\n                        <td id=\"T_56d388c6_61bf_11eb_9f9f_0242ac1c0002row0_col4\" class=\"data row0 col4\" >2</td>\n                        <td id=\"T_56d388c6_61bf_11eb_9f9f_0242ac1c0002row0_col5\" class=\"data row0 col5\" >2</td>\n                        <td id=\"T_56d388c6_61bf_11eb_9f9f_0242ac1c0002row0_col6\" class=\"data row0 col6\" >2</td>\n            </tr>\n            <tr>\n                        <th id=\"T_56d388c6_61bf_11eb_9f9f_0242ac1c0002level0_row1\" class=\"row_heading level0 row1\" >Jon Snow</th>\n                        <td id=\"T_56d388c6_61bf_11eb_9f9f_0242ac1c0002row1_col0\" class=\"data row1 col0\" >2</td>\n                        <td id=\"T_56d388c6_61bf_11eb_9f9f_0242ac1c0002row1_col1\" class=\"data row1 col1\" >2</td>\n                        <td id=\"T_56d388c6_61bf_11eb_9f9f_0242ac1c0002row1_col2\" class=\"data row1 col2\" >14</td>\n                        <td id=\"T_56d388c6_61bf_11eb_9f9f_0242ac1c0002row1_col3\" class=\"data row1 col3\" >6</td>\n                        <td id=\"T_56d388c6_61bf_11eb_9f9f_0242ac1c0002row1_col4\" class=\"data row1 col4\" >1</td>\n                        <td id=\"T_56d388c6_61bf_11eb_9f9f_0242ac1c0002row1_col5\" class=\"data row1 col5\" >1</td>\n                        <td id=\"T_56d388c6_61bf_11eb_9f9f_0242ac1c0002row1_col6\" class=\"data row1 col6\" >1</td>\n            </tr>\n            <tr>\n                        <th id=\"T_56d388c6_61bf_11eb_9f9f_0242ac1c0002level0_row2\" class=\"row_heading level0 row2\" >Jaime Lannister</th>\n                        <td id=\"T_56d388c6_61bf_11eb_9f9f_0242ac1c0002row2_col0\" class=\"data row2 col0\" >3</td>\n                        <td id=\"T_56d388c6_61bf_11eb_9f9f_0242ac1c0002row2_col1\" class=\"data row2 col1\" >7</td>\n                        <td id=\"T_56d388c6_61bf_11eb_9f9f_0242ac1c0002row2_col2\" class=\"data row2 col2\" >3</td>\n                        <td id=\"T_56d388c6_61bf_11eb_9f9f_0242ac1c0002row2_col3\" class=\"data row2 col3\" >5</td>\n                        <td id=\"T_56d388c6_61bf_11eb_9f9f_0242ac1c0002row2_col4\" class=\"data row2 col4\" >6</td>\n                        <td id=\"T_56d388c6_61bf_11eb_9f9f_0242ac1c0002row2_col5\" class=\"data row2 col5\" >6</td>\n                        <td id=\"T_56d388c6_61bf_11eb_9f9f_0242ac1c0002row2_col6\" class=\"data row2 col6\" >5</td>\n            </tr>\n            <tr>\n                        <th id=\"T_56d388c6_61bf_11eb_9f9f_0242ac1c0002level0_row3\" class=\"row_heading level0 row3\" >Cersei Lannister</th>\n                        <td id=\"T_56d388c6_61bf_11eb_9f9f_0242ac1c0002row3_col0\" class=\"data row3 col0\" >4</td>\n                        <td id=\"T_56d388c6_61bf_11eb_9f9f_0242ac1c0002row3_col1\" class=\"data row3 col1\" >3</td>\n                        <td id=\"T_56d388c6_61bf_11eb_9f9f_0242ac1c0002row3_col2\" class=\"data row3 col2\" >2</td>\n                        <td id=\"T_56d388c6_61bf_11eb_9f9f_0242ac1c0002row3_col3\" class=\"data row3 col3\" >4</td>\n                        <td id=\"T_56d388c6_61bf_11eb_9f9f_0242ac1c0002row3_col4\" class=\"data row3 col4\" >7</td>\n                        <td id=\"T_56d388c6_61bf_11eb_9f9f_0242ac1c0002row3_col5\" class=\"data row3 col5\" >7</td>\n                        <td id=\"T_56d388c6_61bf_11eb_9f9f_0242ac1c0002row3_col6\" class=\"data row3 col6\" >3</td>\n            </tr>\n            <tr>\n                        <th id=\"T_56d388c6_61bf_11eb_9f9f_0242ac1c0002level0_row4\" class=\"row_heading level0 row4\" >Stannis Baratheon</th>\n                        <td id=\"T_56d388c6_61bf_11eb_9f9f_0242ac1c0002row4_col0\" class=\"data row4 col0\" >5</td>\n                        <td id=\"T_56d388c6_61bf_11eb_9f9f_0242ac1c0002row4_col1\" class=\"data row4 col1\" >13</td>\n                        <td id=\"T_56d388c6_61bf_11eb_9f9f_0242ac1c0002row4_col2\" class=\"data row4 col2\" >8</td>\n                        <td id=\"T_56d388c6_61bf_11eb_9f9f_0242ac1c0002row4_col3\" class=\"data row4 col3\" >7</td>\n                        <td id=\"T_56d388c6_61bf_11eb_9f9f_0242ac1c0002row4_col4\" class=\"data row4 col4\" >5</td>\n                        <td id=\"T_56d388c6_61bf_11eb_9f9f_0242ac1c0002row4_col5\" class=\"data row4 col5\" >5</td>\n                        <td id=\"T_56d388c6_61bf_11eb_9f9f_0242ac1c0002row4_col6\" class=\"data row4 col6\" >8</td>\n            </tr>\n            <tr>\n                        <th id=\"T_56d388c6_61bf_11eb_9f9f_0242ac1c0002level0_row5\" class=\"row_heading level0 row5\" >Arya Stark</th>\n                        <td id=\"T_56d388c6_61bf_11eb_9f9f_0242ac1c0002row5_col0\" class=\"data row5 col0\" >6</td>\n                        <td id=\"T_56d388c6_61bf_11eb_9f9f_0242ac1c0002row5_col1\" class=\"data row5 col1\" >11</td>\n                        <td id=\"T_56d388c6_61bf_11eb_9f9f_0242ac1c0002row5_col2\" class=\"data row5 col2\" >11</td>\n                        <td id=\"T_56d388c6_61bf_11eb_9f9f_0242ac1c0002row5_col3\" class=\"data row5 col3\" >12</td>\n                        <td id=\"T_56d388c6_61bf_11eb_9f9f_0242ac1c0002row5_col4\" class=\"data row5 col4\" >8</td>\n                        <td id=\"T_56d388c6_61bf_11eb_9f9f_0242ac1c0002row5_col5\" class=\"data row5 col5\" >8</td>\n                        <td id=\"T_56d388c6_61bf_11eb_9f9f_0242ac1c0002row5_col6\" class=\"data row5 col6\" >7</td>\n            </tr>\n            <tr>\n                        <th id=\"T_56d388c6_61bf_11eb_9f9f_0242ac1c0002level0_row6\" class=\"row_heading level0 row6\" >Catelyn Stark</th>\n                        <td id=\"T_56d388c6_61bf_11eb_9f9f_0242ac1c0002row6_col0\" class=\"data row6 col0\" >7</td>\n                        <td id=\"T_56d388c6_61bf_11eb_9f9f_0242ac1c0002row6_col1\" class=\"data row6 col1\" >14</td>\n                        <td id=\"T_56d388c6_61bf_11eb_9f9f_0242ac1c0002row6_col2\" class=\"data row6 col2\" >9</td>\n                        <td id=\"T_56d388c6_61bf_11eb_9f9f_0242ac1c0002row6_col3\" class=\"data row6 col3\" >10</td>\n                        <td id=\"T_56d388c6_61bf_11eb_9f9f_0242ac1c0002row6_col4\" class=\"data row6 col4\" >12</td>\n                        <td id=\"T_56d388c6_61bf_11eb_9f9f_0242ac1c0002row6_col5\" class=\"data row6 col5\" >12</td>\n                        <td id=\"T_56d388c6_61bf_11eb_9f9f_0242ac1c0002row6_col6\" class=\"data row6 col6\" >14</td>\n            </tr>\n            <tr>\n                        <th id=\"T_56d388c6_61bf_11eb_9f9f_0242ac1c0002level0_row7\" class=\"row_heading level0 row7\" >Sansa Stark</th>\n                        <td id=\"T_56d388c6_61bf_11eb_9f9f_0242ac1c0002row7_col0\" class=\"data row7 col0\" >8</td>\n                        <td id=\"T_56d388c6_61bf_11eb_9f9f_0242ac1c0002row7_col1\" class=\"data row7 col1\" >8</td>\n                        <td id=\"T_56d388c6_61bf_11eb_9f9f_0242ac1c0002row7_col2\" class=\"data row7 col2\" >5</td>\n                        <td id=\"T_56d388c6_61bf_11eb_9f9f_0242ac1c0002row7_col3\" class=\"data row7 col3\" >11</td>\n                        <td id=\"T_56d388c6_61bf_11eb_9f9f_0242ac1c0002row7_col4\" class=\"data row7 col4\" >13</td>\n                        <td id=\"T_56d388c6_61bf_11eb_9f9f_0242ac1c0002row7_col5\" class=\"data row7 col5\" >13</td>\n                        <td id=\"T_56d388c6_61bf_11eb_9f9f_0242ac1c0002row7_col6\" class=\"data row7 col6\" >12</td>\n            </tr>\n            <tr>\n                        <th id=\"T_56d388c6_61bf_11eb_9f9f_0242ac1c0002level0_row8\" class=\"row_heading level0 row8\" >Robb Stark</th>\n                        <td id=\"T_56d388c6_61bf_11eb_9f9f_0242ac1c0002row8_col0\" class=\"data row8 col0\" >9</td>\n                        <td id=\"T_56d388c6_61bf_11eb_9f9f_0242ac1c0002row8_col1\" class=\"data row8 col1\" >12</td>\n                        <td id=\"T_56d388c6_61bf_11eb_9f9f_0242ac1c0002row8_col2\" class=\"data row8 col2\" >10</td>\n                        <td id=\"T_56d388c6_61bf_11eb_9f9f_0242ac1c0002row8_col3\" class=\"data row8 col3\" >8</td>\n                        <td id=\"T_56d388c6_61bf_11eb_9f9f_0242ac1c0002row8_col4\" class=\"data row8 col4\" >11</td>\n                        <td id=\"T_56d388c6_61bf_11eb_9f9f_0242ac1c0002row8_col5\" class=\"data row8 col5\" >11</td>\n                        <td id=\"T_56d388c6_61bf_11eb_9f9f_0242ac1c0002row8_col6\" class=\"data row8 col6\" >10</td>\n            </tr>\n            <tr>\n                        <th id=\"T_56d388c6_61bf_11eb_9f9f_0242ac1c0002level0_row9\" class=\"row_heading level0 row9\" >Eddard Stark</th>\n                        <td id=\"T_56d388c6_61bf_11eb_9f9f_0242ac1c0002row9_col0\" class=\"data row9 col0\" >10</td>\n                        <td id=\"T_56d388c6_61bf_11eb_9f9f_0242ac1c0002row9_col1\" class=\"data row9 col1\" >5</td>\n                        <td id=\"T_56d388c6_61bf_11eb_9f9f_0242ac1c0002row9_col2\" class=\"data row9 col2\" >7</td>\n                        <td id=\"T_56d388c6_61bf_11eb_9f9f_0242ac1c0002row9_col3\" class=\"data row9 col3\" >3</td>\n                        <td id=\"T_56d388c6_61bf_11eb_9f9f_0242ac1c0002row9_col4\" class=\"data row9 col4\" >9</td>\n                        <td id=\"T_56d388c6_61bf_11eb_9f9f_0242ac1c0002row9_col5\" class=\"data row9 col5\" >9</td>\n                        <td id=\"T_56d388c6_61bf_11eb_9f9f_0242ac1c0002row9_col6\" class=\"data row9 col6\" >6</td>\n            </tr>\n            <tr>\n                        <th id=\"T_56d388c6_61bf_11eb_9f9f_0242ac1c0002level0_row10\" class=\"row_heading level0 row10\" >Daenerys Targaryen</th>\n                        <td id=\"T_56d388c6_61bf_11eb_9f9f_0242ac1c0002row10_col0\" class=\"data row10 col0\" >11</td>\n                        <td id=\"T_56d388c6_61bf_11eb_9f9f_0242ac1c0002row10_col1\" class=\"data row10 col1\" >6</td>\n                        <td id=\"T_56d388c6_61bf_11eb_9f9f_0242ac1c0002row10_col2\" class=\"data row10 col2\" >47</td>\n                        <td id=\"T_56d388c6_61bf_11eb_9f9f_0242ac1c0002row10_col3\" class=\"data row10 col3\" >27</td>\n                        <td id=\"T_56d388c6_61bf_11eb_9f9f_0242ac1c0002row10_col4\" class=\"data row10 col4\" >3</td>\n                        <td id=\"T_56d388c6_61bf_11eb_9f9f_0242ac1c0002row10_col5\" class=\"data row10 col5\" >3</td>\n                        <td id=\"T_56d388c6_61bf_11eb_9f9f_0242ac1c0002row10_col6\" class=\"data row10 col6\" >4</td>\n            </tr>\n            <tr>\n                        <th id=\"T_56d388c6_61bf_11eb_9f9f_0242ac1c0002level0_row11\" class=\"row_heading level0 row11\" >Joffrey Baratheon</th>\n                        <td id=\"T_56d388c6_61bf_11eb_9f9f_0242ac1c0002row11_col0\" class=\"data row11 col0\" >12</td>\n                        <td id=\"T_56d388c6_61bf_11eb_9f9f_0242ac1c0002row11_col1\" class=\"data row11 col1\" >4</td>\n                        <td id=\"T_56d388c6_61bf_11eb_9f9f_0242ac1c0002row11_col2\" class=\"data row11 col2\" >4</td>\n                        <td id=\"T_56d388c6_61bf_11eb_9f9f_0242ac1c0002row11_col3\" class=\"data row11 col3\" >9</td>\n                        <td id=\"T_56d388c6_61bf_11eb_9f9f_0242ac1c0002row11_col4\" class=\"data row11 col4\" >20</td>\n                        <td id=\"T_56d388c6_61bf_11eb_9f9f_0242ac1c0002row11_col5\" class=\"data row11 col5\" >20</td>\n                        <td id=\"T_56d388c6_61bf_11eb_9f9f_0242ac1c0002row11_col6\" class=\"data row11 col6\" >9</td>\n            </tr>\n            <tr>\n                        <th id=\"T_56d388c6_61bf_11eb_9f9f_0242ac1c0002level0_row12\" class=\"row_heading level0 row12\" >Theon Greyjoy</th>\n                        <td id=\"T_56d388c6_61bf_11eb_9f9f_0242ac1c0002row12_col0\" class=\"data row12 col0\" >13</td>\n                        <td id=\"T_56d388c6_61bf_11eb_9f9f_0242ac1c0002row12_col1\" class=\"data row12 col1\" >16</td>\n                        <td id=\"T_56d388c6_61bf_11eb_9f9f_0242ac1c0002row12_col2\" class=\"data row12 col2\" >24</td>\n                        <td id=\"T_56d388c6_61bf_11eb_9f9f_0242ac1c0002row12_col3\" class=\"data row12 col3\" >13</td>\n                        <td id=\"T_56d388c6_61bf_11eb_9f9f_0242ac1c0002row12_col4\" class=\"data row12 col4\" >4</td>\n                        <td id=\"T_56d388c6_61bf_11eb_9f9f_0242ac1c0002row12_col5\" class=\"data row12 col5\" >4</td>\n                        <td id=\"T_56d388c6_61bf_11eb_9f9f_0242ac1c0002row12_col6\" class=\"data row12 col6\" >15</td>\n            </tr>\n            <tr>\n                        <th id=\"T_56d388c6_61bf_11eb_9f9f_0242ac1c0002level0_row13\" class=\"row_heading level0 row13\" >Robert Baratheon</th>\n                        <td id=\"T_56d388c6_61bf_11eb_9f9f_0242ac1c0002row13_col0\" class=\"data row13 col0\" >14</td>\n                        <td id=\"T_56d388c6_61bf_11eb_9f9f_0242ac1c0002row13_col1\" class=\"data row13 col1\" >10</td>\n                        <td id=\"T_56d388c6_61bf_11eb_9f9f_0242ac1c0002row13_col2\" class=\"data row13 col2\" >6</td>\n                        <td id=\"T_56d388c6_61bf_11eb_9f9f_0242ac1c0002row13_col3\" class=\"data row13 col3\" >2</td>\n                        <td id=\"T_56d388c6_61bf_11eb_9f9f_0242ac1c0002row13_col4\" class=\"data row13 col4\" >10</td>\n                        <td id=\"T_56d388c6_61bf_11eb_9f9f_0242ac1c0002row13_col5\" class=\"data row13 col5\" >10</td>\n                        <td id=\"T_56d388c6_61bf_11eb_9f9f_0242ac1c0002row13_col6\" class=\"data row13 col6\" >13</td>\n            </tr>\n            <tr>\n                        <th id=\"T_56d388c6_61bf_11eb_9f9f_0242ac1c0002level0_row14\" class=\"row_heading level0 row14\" >Bran Stark</th>\n                        <td id=\"T_56d388c6_61bf_11eb_9f9f_0242ac1c0002row14_col0\" class=\"data row14 col0\" >15</td>\n                        <td id=\"T_56d388c6_61bf_11eb_9f9f_0242ac1c0002row14_col1\" class=\"data row14 col1\" >9</td>\n                        <td id=\"T_56d388c6_61bf_11eb_9f9f_0242ac1c0002row14_col2\" class=\"data row14 col2\" >19</td>\n                        <td id=\"T_56d388c6_61bf_11eb_9f9f_0242ac1c0002row14_col3\" class=\"data row14 col3\" >14</td>\n                        <td id=\"T_56d388c6_61bf_11eb_9f9f_0242ac1c0002row14_col4\" class=\"data row14 col4\" >15</td>\n                        <td id=\"T_56d388c6_61bf_11eb_9f9f_0242ac1c0002row14_col5\" class=\"data row14 col5\" >15</td>\n                        <td id=\"T_56d388c6_61bf_11eb_9f9f_0242ac1c0002row14_col6\" class=\"data row14 col6\" >11</td>\n            </tr>\n    </tbody></table>",
                "text/plain": "<pandas.io.formats.style.Styler at 0x7f18de3e7940>"
              }
            ],
            "_view_module": "@jupyter-widgets/output",
            "_model_module_version": "1.0.0",
            "_view_count": null,
            "_view_module_version": "1.0.0",
            "layout": "IPY_MODEL_3e5bfc9184604f1fbce75e00160f2b07",
            "_model_module": "@jupyter-widgets/output"
          }
        },
        "db3ede6266b3419e9cb24b64822a7081": {
          "model_module": "@jupyter-widgets/controls",
          "model_name": "DescriptionStyleModel",
          "state": {
            "_view_name": "StyleView",
            "_model_name": "DescriptionStyleModel",
            "description_width": "",
            "_view_module": "@jupyter-widgets/base",
            "_model_module_version": "1.5.0",
            "_view_count": null,
            "_view_module_version": "1.2.0",
            "_model_module": "@jupyter-widgets/controls"
          }
        },
        "7d8c9316bb2e4042954978aaa00488b8": {
          "model_module": "@jupyter-widgets/base",
          "model_name": "LayoutModel",
          "state": {
            "_view_name": "LayoutView",
            "grid_template_rows": null,
            "right": null,
            "justify_content": null,
            "_view_module": "@jupyter-widgets/base",
            "overflow": null,
            "_model_module_version": "1.2.0",
            "_view_count": null,
            "flex_flow": null,
            "width": null,
            "min_width": null,
            "border": null,
            "align_items": null,
            "bottom": null,
            "_model_module": "@jupyter-widgets/base",
            "top": null,
            "grid_column": null,
            "overflow_y": null,
            "overflow_x": null,
            "grid_auto_flow": null,
            "grid_area": null,
            "grid_template_columns": null,
            "flex": null,
            "_model_name": "LayoutModel",
            "justify_items": null,
            "grid_row": null,
            "max_height": null,
            "align_content": null,
            "visibility": null,
            "align_self": null,
            "height": null,
            "min_height": null,
            "padding": null,
            "grid_auto_rows": null,
            "grid_gap": null,
            "max_width": null,
            "order": null,
            "_view_module_version": "1.2.0",
            "grid_template_areas": null,
            "object_position": null,
            "object_fit": null,
            "grid_auto_columns": null,
            "margin": null,
            "display": null,
            "left": null
          }
        },
        "9c131490264343e3b9ea296d61d6d470": {
          "model_module": "@jupyter-widgets/controls",
          "model_name": "SliderStyleModel",
          "state": {
            "_view_name": "StyleView",
            "handle_color": null,
            "_model_name": "SliderStyleModel",
            "description_width": "",
            "_view_module": "@jupyter-widgets/base",
            "_model_module_version": "1.5.0",
            "_view_count": null,
            "_view_module_version": "1.2.0",
            "_model_module": "@jupyter-widgets/controls"
          }
        },
        "b45b6b83d74244b19a500fd9da385bfc": {
          "model_module": "@jupyter-widgets/base",
          "model_name": "LayoutModel",
          "state": {
            "_view_name": "LayoutView",
            "grid_template_rows": null,
            "right": null,
            "justify_content": null,
            "_view_module": "@jupyter-widgets/base",
            "overflow": null,
            "_model_module_version": "1.2.0",
            "_view_count": null,
            "flex_flow": null,
            "width": null,
            "min_width": null,
            "border": null,
            "align_items": null,
            "bottom": null,
            "_model_module": "@jupyter-widgets/base",
            "top": null,
            "grid_column": null,
            "overflow_y": null,
            "overflow_x": null,
            "grid_auto_flow": null,
            "grid_area": null,
            "grid_template_columns": null,
            "flex": null,
            "_model_name": "LayoutModel",
            "justify_items": null,
            "grid_row": null,
            "max_height": null,
            "align_content": null,
            "visibility": null,
            "align_self": null,
            "height": null,
            "min_height": null,
            "padding": null,
            "grid_auto_rows": null,
            "grid_gap": null,
            "max_width": null,
            "order": null,
            "_view_module_version": "1.2.0",
            "grid_template_areas": null,
            "object_position": null,
            "object_fit": null,
            "grid_auto_columns": null,
            "margin": null,
            "display": null,
            "left": null
          }
        },
        "3e5bfc9184604f1fbce75e00160f2b07": {
          "model_module": "@jupyter-widgets/base",
          "model_name": "LayoutModel",
          "state": {
            "_view_name": "LayoutView",
            "grid_template_rows": null,
            "right": null,
            "justify_content": null,
            "_view_module": "@jupyter-widgets/base",
            "overflow": null,
            "_model_module_version": "1.2.0",
            "_view_count": null,
            "flex_flow": null,
            "width": null,
            "min_width": null,
            "border": null,
            "align_items": null,
            "bottom": null,
            "_model_module": "@jupyter-widgets/base",
            "top": null,
            "grid_column": null,
            "overflow_y": null,
            "overflow_x": null,
            "grid_auto_flow": null,
            "grid_area": null,
            "grid_template_columns": null,
            "flex": null,
            "_model_name": "LayoutModel",
            "justify_items": null,
            "grid_row": null,
            "max_height": null,
            "align_content": null,
            "visibility": null,
            "align_self": null,
            "height": null,
            "min_height": null,
            "padding": null,
            "grid_auto_rows": null,
            "grid_gap": null,
            "max_width": null,
            "order": null,
            "_view_module_version": "1.2.0",
            "grid_template_areas": null,
            "object_position": null,
            "object_fit": null,
            "grid_auto_columns": null,
            "margin": null,
            "display": null,
            "left": null
          }
        }
      }
    }
  },
  "cells": [
    {
      "cell_type": "markdown",
      "metadata": {
        "id": "Pt-rRMpXxg6z"
      },
      "source": [
        "# Задание 02"
      ]
    },
    {
      "cell_type": "markdown",
      "metadata": {
        "id": "NMYeOXvExg7A"
      },
      "source": [
        "![](got.png)"
      ]
    },
    {
      "cell_type": "code",
      "metadata": {
        "collapsed": true,
        "id": "ttv-XDbJxg7D"
      },
      "source": [
        "import numpy as np\n",
        "import matplotlib.pyplot as plt\n",
        "from collections import Counter\n",
        "import networkx as nx\n",
        "from math import ceil\n",
        "from tqdm.notebook import tqdm\n",
        "import pandas as pd\n",
        "import seaborn as sns\n",
        "from ipywidgets import interact\n",
        "%matplotlib inline"
      ],
      "execution_count": 1,
      "outputs": []
    },
    {
      "cell_type": "markdown",
      "metadata": {
        "id": "zcOkNy2Axg7F"
      },
      "source": [
        "Будем изучать важность персонажей в книгах \"A Song of Ice and Fire\" (G.R.R. Martin). Два героя связаны ребром, если их имена появляются в тексте на расстоянии не более 15 слов в соответствующей книге. [Данные](https://github.com/mathbeveridge/asoiaf) находятся в открытом доступе для 5 книг.\n",
        "Сеть -- взвешенная, вес ребра определяется числом взаимодействий (упоминаний в тексте)."
      ]
    },
    {
      "cell_type": "code",
      "metadata": {
        "colab": {
          "base_uri": "https://localhost:8080/"
        },
        "id": "FqIVc5OV0Ssw",
        "outputId": "ad4eee3c-14cc-423b-97b5-85f89d6ff1ab"
      },
      "source": [
        "# так как использую колаб, надо дать доступ к гугл-диску\r\n",
        "from google.colab import drive\r\n",
        "drive.mount('/content/drive')"
      ],
      "execution_count": 2,
      "outputs": [
        {
          "output_type": "stream",
          "text": [
            "Mounted at /content/drive\n"
          ],
          "name": "stdout"
        }
      ]
    },
    {
      "cell_type": "code",
      "metadata": {
        "collapsed": true,
        "id": "iDElqgC_xg7H"
      },
      "source": [
        "book1 = pd.read_csv('/content/drive/My Drive/Colab Notebooks/asoiaf-book1-edges.csv')\n",
        "book2 = pd.read_csv('/content/drive/My Drive/Colab Notebooks/asoiaf-book2-edges.csv')\n",
        "book3 = pd.read_csv('/content/drive/My Drive/Colab Notebooks/asoiaf-book3-edges.csv')\n",
        "book4 = pd.read_csv('/content/drive/My Drive/Colab Notebooks/asoiaf-book4-edges.csv')\n",
        "book5 = pd.read_csv('/content/drive/My Drive/Colab Notebooks/asoiaf-book5-edges.csv')"
      ],
      "execution_count": 3,
      "outputs": []
    },
    {
      "cell_type": "code",
      "metadata": {
        "colab": {
          "base_uri": "https://localhost:8080/",
          "height": 204
        },
        "id": "M6ULjN51xg7I",
        "outputId": "0dd16c87-0c0b-4479-bfac-2f43234df8eb"
      },
      "source": [
        "book5.head()"
      ],
      "execution_count": 4,
      "outputs": [
        {
          "output_type": "execute_result",
          "data": {
            "text/html": [
              "<div>\n",
              "<style scoped>\n",
              "    .dataframe tbody tr th:only-of-type {\n",
              "        vertical-align: middle;\n",
              "    }\n",
              "\n",
              "    .dataframe tbody tr th {\n",
              "        vertical-align: top;\n",
              "    }\n",
              "\n",
              "    .dataframe thead th {\n",
              "        text-align: right;\n",
              "    }\n",
              "</style>\n",
              "<table border=\"1\" class=\"dataframe\">\n",
              "  <thead>\n",
              "    <tr style=\"text-align: right;\">\n",
              "      <th></th>\n",
              "      <th>Source</th>\n",
              "      <th>Target</th>\n",
              "      <th>Type</th>\n",
              "      <th>weight</th>\n",
              "      <th>book</th>\n",
              "    </tr>\n",
              "  </thead>\n",
              "  <tbody>\n",
              "    <tr>\n",
              "      <th>0</th>\n",
              "      <td>Aegon-I-Targaryen</td>\n",
              "      <td>Daenerys-Targaryen</td>\n",
              "      <td>undirected</td>\n",
              "      <td>4</td>\n",
              "      <td>5</td>\n",
              "    </tr>\n",
              "    <tr>\n",
              "      <th>1</th>\n",
              "      <td>Aegon-Targaryen-(son-of-Rhaegar)</td>\n",
              "      <td>Daenerys-Targaryen</td>\n",
              "      <td>undirected</td>\n",
              "      <td>11</td>\n",
              "      <td>5</td>\n",
              "    </tr>\n",
              "    <tr>\n",
              "      <th>2</th>\n",
              "      <td>Aegon-Targaryen-(son-of-Rhaegar)</td>\n",
              "      <td>Elia-Martell</td>\n",
              "      <td>undirected</td>\n",
              "      <td>4</td>\n",
              "      <td>5</td>\n",
              "    </tr>\n",
              "    <tr>\n",
              "      <th>3</th>\n",
              "      <td>Aegon-Targaryen-(son-of-Rhaegar)</td>\n",
              "      <td>Franklyn-Flowers</td>\n",
              "      <td>undirected</td>\n",
              "      <td>3</td>\n",
              "      <td>5</td>\n",
              "    </tr>\n",
              "    <tr>\n",
              "      <th>4</th>\n",
              "      <td>Aegon-Targaryen-(son-of-Rhaegar)</td>\n",
              "      <td>Haldon</td>\n",
              "      <td>undirected</td>\n",
              "      <td>14</td>\n",
              "      <td>5</td>\n",
              "    </tr>\n",
              "  </tbody>\n",
              "</table>\n",
              "</div>"
            ],
            "text/plain": [
              "                             Source              Target  ... weight  book\n",
              "0                 Aegon-I-Targaryen  Daenerys-Targaryen  ...      4     5\n",
              "1  Aegon-Targaryen-(son-of-Rhaegar)  Daenerys-Targaryen  ...     11     5\n",
              "2  Aegon-Targaryen-(son-of-Rhaegar)        Elia-Martell  ...      4     5\n",
              "3  Aegon-Targaryen-(son-of-Rhaegar)    Franklyn-Flowers  ...      3     5\n",
              "4  Aegon-Targaryen-(son-of-Rhaegar)              Haldon  ...     14     5\n",
              "\n",
              "[5 rows x 5 columns]"
            ]
          },
          "metadata": {
            "tags": []
          },
          "execution_count": 4
        }
      ]
    },
    {
      "cell_type": "markdown",
      "metadata": {
        "id": "3o38mm6axg7K"
      },
      "source": [
        "#### Постройте сеть персонажей по первой книге. "
      ]
    },
    {
      "cell_type": "code",
      "metadata": {
        "collapsed": true,
        "id": "oFCWjVUPxg7L"
      },
      "source": [
        "G1 = nx.from_pandas_edgelist(book1,'Source', 'Target', edge_attr=True, create_using=nx.Graph())\r\n",
        "G2 = nx.from_pandas_edgelist(book2,'Source', 'Target', edge_attr=True, create_using=nx.Graph())\r\n",
        "G3 = nx.from_pandas_edgelist(book3,'Source', 'Target', edge_attr=True, create_using=nx.Graph())\r\n",
        "G4 = nx.from_pandas_edgelist(book4,'Source', 'Target', edge_attr=True, create_using=nx.Graph())\r\n",
        "G5 = nx.from_pandas_edgelist(book5,'Source', 'Target', edge_attr=True, create_using=nx.Graph())\r\n",
        "graphs = [G1, G2, G3, G4, G5]"
      ],
      "execution_count": 5,
      "outputs": []
    },
    {
      "cell_type": "code",
      "metadata": {
        "colab": {
          "base_uri": "https://localhost:8080/"
        },
        "id": "PxEcUzeexg7M",
        "outputId": "74466f37-dd9e-498a-ce68-170ea623e138"
      },
      "source": [
        "print(list(G1.edges(data=True))[16]) # ребро в сети"
      ],
      "execution_count": 6,
      "outputs": [
        {
          "output_type": "stream",
          "text": [
            "('Jaime-Lannister', 'Loras-Tyrell', {'Type': 'Undirected', 'weight': 3, 'book': 1})\n"
          ],
          "name": "stdout"
        }
      ]
    },
    {
      "cell_type": "markdown",
      "metadata": {
        "id": "FpwQRBf_xg7O"
      },
      "source": [
        "#### 1.  Определите топ-10 персонажей по значению центральности по степени. Сколько среди них Старков? "
      ]
    },
    {
      "cell_type": "code",
      "metadata": {
        "collapsed": true,
        "id": "KOtt7htLxg7P"
      },
      "source": [
        "def getTop(G, centrality, n=10):\r\n",
        "    return {k:v for k, v in sorted(centrality(G).items(), key=lambda x:x[-1], reverse=True)[:n]}"
      ],
      "execution_count": 7,
      "outputs": []
    },
    {
      "cell_type": "code",
      "metadata": {
        "id": "BjLxhrEl2BMH"
      },
      "source": [
        "top10_degree_centrality = getTop(G1, nx.degree_centrality)"
      ],
      "execution_count": 8,
      "outputs": []
    },
    {
      "cell_type": "code",
      "metadata": {
        "colab": {
          "base_uri": "https://localhost:8080/"
        },
        "id": "tRHClsJd2BVn",
        "outputId": "a113a0da-056a-4433-9f29-2336aa09b1b5"
      },
      "source": [
        "print('Количество Старков в топ-10: {}'.format(sum(['stark' in n.lower() for n,c \r\n",
        "                                                 in top10_degree_centrality.items()])))"
      ],
      "execution_count": 9,
      "outputs": [
        {
          "output_type": "stream",
          "text": [
            "Количество Старков в топ-10: 5\n"
          ],
          "name": "stdout"
        }
      ]
    },
    {
      "cell_type": "markdown",
      "metadata": {
        "id": "Us-e3qLNxg7R"
      },
      "source": [
        "#### 2. Постройте функцию weighted_degree, учитывающую вес ребер: \n",
        "\n",
        "$$d_{w}^{i}=\\sum_{j} w_{i,j},$$ где $w_{i,j}$ -- вес ребра $(i,j)$ ($w_{i,j}=0$, если нет ребра между вершинами $i$ и $j$).\n",
        "\n",
        "#### Какое значение взвешенной степени у Eddard-Stark в сети?"
      ]
    },
    {
      "cell_type": "code",
      "metadata": {
        "collapsed": true,
        "id": "lcj2BMauxg7S"
      },
      "source": [
        "def weighted_degree(G, node=None):\r\n",
        "    if node:\r\n",
        "        edges = G.edges(node)\r\n",
        "        wd = sum(G.get_edge_data(u, v)['weight'] for u, v in edges)\r\n",
        "        return wd\r\n",
        "    else:\r\n",
        "        return {n:weighted_degree(G, n) for n in G.nodes()}"
      ],
      "execution_count": 10,
      "outputs": []
    },
    {
      "cell_type": "code",
      "metadata": {
        "colab": {
          "base_uri": "https://localhost:8080/"
        },
        "id": "Xj1TpK622KWQ",
        "outputId": "4114e2f2-c158-4440-cf2d-1e752ce8d42d"
      },
      "source": [
        "print('Значение взвешенной степени у Eddard Stark: {}'.format(weighted_degree(G1, 'Eddard-Stark')))"
      ],
      "execution_count": 11,
      "outputs": [
        {
          "output_type": "stream",
          "text": [
            "Значение взвешенной степени у Eddard Stark: 1284\n"
          ],
          "name": "stdout"
        }
      ]
    },
    {
      "cell_type": "markdown",
      "metadata": {
        "id": "rcMBxIlRxg7T"
      },
      "source": [
        "#### 3. Сколько персонажей из топ-10, определенным по центральности по степени (из вопроса 1) осталось в топ-10 по взвешенной степени ? "
      ]
    },
    {
      "cell_type": "code",
      "metadata": {
        "collapsed": true,
        "id": "YPht_bGUxg7U"
      },
      "source": [
        "top10_weighted_degree = getTop(G1, weighted_degree)"
      ],
      "execution_count": 12,
      "outputs": []
    },
    {
      "cell_type": "code",
      "metadata": {
        "colab": {
          "base_uri": "https://localhost:8080/"
        },
        "id": "_wPiPBhq26Yd",
        "outputId": "f402a612-f695-40f8-fe7c-e6baf8242043"
      },
      "source": [
        "print('Ответ: {}'.format(len(set(top10_weighted_degree.keys()).intersection(top10_degree_centrality.keys()))))"
      ],
      "execution_count": 13,
      "outputs": [
        {
          "output_type": "stream",
          "text": [
            "Ответ: 8\n"
          ],
          "name": "stdout"
        }
      ]
    },
    {
      "cell_type": "markdown",
      "metadata": {
        "id": "H44JdP62xg7V"
      },
      "source": [
        "#### 4.  Постройте топ-10 персонажей  по значению центральности по посредничеству. \n",
        "Сравните с топ-10 по степени и по взвешенной степени. "
      ]
    },
    {
      "cell_type": "code",
      "metadata": {
        "collapsed": true,
        "colab": {
          "base_uri": "https://localhost:8080/"
        },
        "id": "2QpJpfacxg7W",
        "outputId": "0ff52960-f29f-4033-b09f-27851c7dad95"
      },
      "source": [
        "top10_betweenness = getTop(G1, nx.betweenness_centrality)\r\n",
        "top10_betweenness"
      ],
      "execution_count": 14,
      "outputs": [
        {
          "output_type": "execute_result",
          "data": {
            "text/plain": [
              "{'Bran-Stark': 0.05579958811784442,\n",
              " 'Catelyn-Stark': 0.1513952715347627,\n",
              " 'Daenerys-Targaryen': 0.08627015537511595,\n",
              " 'Drogo': 0.06481224290874964,\n",
              " 'Eddard-Stark': 0.2696038913836117,\n",
              " 'Jon-Snow': 0.17158135899829566,\n",
              " 'Robb-Stark': 0.07298399629664767,\n",
              " 'Robert-Baratheon': 0.21403028397371796,\n",
              " 'Sansa-Stark': 0.03714483664326785,\n",
              " 'Tyrion-Lannister': 0.1902124972697492}"
            ]
          },
          "metadata": {
            "tags": []
          },
          "execution_count": 14
        }
      ]
    },
    {
      "cell_type": "markdown",
      "metadata": {
        "id": "SKhHc7f-3MBv"
      },
      "source": [
        "#### Какой новый персонаж появился в рейтинге?"
      ]
    },
    {
      "cell_type": "code",
      "metadata": {
        "colab": {
          "base_uri": "https://localhost:8080/"
        },
        "id": "_ipIuyWb3J5s",
        "outputId": "243f0a73-3d8a-4641-d4c4-2eba23bf271e"
      },
      "source": [
        "new_character = set(top10_betweenness.keys()).difference(top10_degree_centrality.keys()).\\\r\n",
        "                difference(top10_weighted_degree)\r\n",
        "print('Ответ: {}'.format(new_character.pop()))"
      ],
      "execution_count": 15,
      "outputs": [
        {
          "output_type": "stream",
          "text": [
            "Ответ: Drogo\n"
          ],
          "name": "stdout"
        }
      ]
    },
    {
      "cell_type": "markdown",
      "metadata": {
        "id": "serF7zBoxg7X"
      },
      "source": [
        "#### 5. Постройте топ-10 персонажей по значению центральности по посредничеству с учетом веса ребер. Кто теперь возглавляет список? "
      ]
    },
    {
      "cell_type": "code",
      "metadata": {
        "collapsed": true,
        "id": "bTA7rn2_xg7X"
      },
      "source": [
        "weighted_betweenness_centrality = lambda G : nx.betweenness_centrality(G, weight='weight')"
      ],
      "execution_count": 16,
      "outputs": []
    },
    {
      "cell_type": "code",
      "metadata": {
        "colab": {
          "base_uri": "https://localhost:8080/"
        },
        "id": "x6-i0fhX3Qi1",
        "outputId": "c2d92019-f73d-4649-f302-c71d39d27aac"
      },
      "source": [
        "getTop(G1, weighted_betweenness_centrality)"
      ],
      "execution_count": 17,
      "outputs": [
        {
          "output_type": "execute_result",
          "data": {
            "text/plain": [
              "{'Catelyn-Stark': 0.10169012330302643,\n",
              " 'Drogo': 0.06894355184677767,\n",
              " 'Eddard-Stark': 0.18703429235687297,\n",
              " 'Jaime-Lannister': 0.07745109164464009,\n",
              " 'Jon-Snow': 0.09027684366394043,\n",
              " 'Jorah-Mormont': 0.0627085149665795,\n",
              " 'Robb-Stark': 0.1024018949825402,\n",
              " 'Robert-Baratheon': 0.23341885664466297,\n",
              " 'Rodrik-Cassel': 0.07667992877670296,\n",
              " 'Tyrion-Lannister': 0.15311225972516293}"
            ]
          },
          "metadata": {
            "tags": []
          },
          "execution_count": 17
        }
      ]
    },
    {
      "cell_type": "code",
      "metadata": {
        "colab": {
          "base_uri": "https://localhost:8080/"
        },
        "id": "YC1viCH53QqN",
        "outputId": "8e3b65eb-27ef-4364-b4f1-98f8b5584dfa"
      },
      "source": [
        "print(getTop(G1, weighted_betweenness_centrality, 1))"
      ],
      "execution_count": 18,
      "outputs": [
        {
          "output_type": "stream",
          "text": [
            "{'Robert-Baratheon': 0.23341885664466297}\n"
          ],
          "name": "stdout"
        }
      ]
    },
    {
      "cell_type": "markdown",
      "metadata": {
        "id": "uv6vzB1Bxg7Y"
      },
      "source": [
        "####  6. Постройте топ-10 по значению PageRank (по умолчанию учетываются веса ребер). Какое место в топе  занимает Daenerys-Targaryen?"
      ]
    },
    {
      "cell_type": "code",
      "metadata": {
        "collapsed": true,
        "colab": {
          "base_uri": "https://localhost:8080/"
        },
        "id": "AxlXM2EFxg7Z",
        "outputId": "80b75545-470d-4989-cf57-4b25ab8e2dbe"
      },
      "source": [
        "top10_pagerank = getTop(G1, nx.pagerank)\r\n",
        "top10_pagerank"
      ],
      "execution_count": 19,
      "outputs": [
        {
          "output_type": "execute_result",
          "data": {
            "text/plain": [
              "{'Bran-Stark': 0.029770049939322262,\n",
              " 'Catelyn-Stark': 0.03466661321136357,\n",
              " 'Cersei-Lannister': 0.021620370924386133,\n",
              " 'Daenerys-Targaryen': 0.02709861295221426,\n",
              " 'Eddard-Stark': 0.07236162026570053,\n",
              " 'Jon-Snow': 0.04770801150205559,\n",
              " 'Robb-Stark': 0.029214217154195955,\n",
              " 'Robert-Baratheon': 0.04849367196106828,\n",
              " 'Sansa-Stark': 0.02694466267974005,\n",
              " 'Tyrion-Lannister': 0.04367631315626212}"
            ]
          },
          "metadata": {
            "tags": []
          },
          "execution_count": 19
        }
      ]
    },
    {
      "cell_type": "code",
      "metadata": {
        "colab": {
          "base_uri": "https://localhost:8080/"
        },
        "id": "GdWNzp_H3cP1",
        "outputId": "22437e6f-4bb1-4292-b9f4-9af6a41d6583"
      },
      "source": [
        "for e, n in enumerate(top10_pagerank, 1):\r\n",
        "    if n=='Daenerys-Targaryen':\r\n",
        "        print('Ответ: {}'.format(e))"
      ],
      "execution_count": 20,
      "outputs": [
        {
          "output_type": "stream",
          "text": [
            "Ответ: 8\n"
          ],
          "name": "stdout"
        }
      ]
    },
    {
      "cell_type": "markdown",
      "metadata": {
        "id": "VIe_fgSWxg7a"
      },
      "source": [
        "#### 7. Постройте рейтинг по значению центральности по степени для персонажей 5-ой книги. Какую теперь наивысшую строчку рейтинга занимает персонаж из Дома Старков?  "
      ]
    },
    {
      "cell_type": "code",
      "metadata": {
        "collapsed": true,
        "id": "miSCm7_bxg7b"
      },
      "source": [
        "stark5 = list(filter(lambda x : 'stark' in x[-1].lower(), \r\n",
        "                     enumerate(getTop(G5, nx.degree_centrality, n=None), 1)))"
      ],
      "execution_count": 21,
      "outputs": []
    },
    {
      "cell_type": "code",
      "metadata": {
        "colab": {
          "base_uri": "https://localhost:8080/"
        },
        "id": "CBJBtEXL3odu",
        "outputId": "4eea30c3-4868-4292-d958-8f7323a05b88"
      },
      "source": [
        "print('Ответ: {} place, {}'.format(*stark5[0]))"
      ],
      "execution_count": 22,
      "outputs": [
        {
          "output_type": "stream",
          "text": [
            "Ответ: 21 place, Eddard-Stark\n"
          ],
          "name": "stdout"
        }
      ]
    },
    {
      "cell_type": "markdown",
      "metadata": {
        "id": "YV3xxb1gxg7b"
      },
      "source": [
        "#### 8.  Выберите персонажа и постройте график, показывающий как менялась его влиятельность от номера книги. "
      ]
    },
    {
      "cell_type": "code",
      "metadata": {
        "id": "gaDtfAlY7tDc"
      },
      "source": [
        "def eigenvector_centrality(G):\r\n",
        "    return nx.eigenvector_centrality(G, max_iter=500)"
      ],
      "execution_count": 23,
      "outputs": []
    },
    {
      "cell_type": "code",
      "metadata": {
        "collapsed": true,
        "id": "Ivfu8DNMxg7c"
      },
      "source": [
        "def getRank(G, centrality, character=None):\r\n",
        "    if character:\r\n",
        "        return list(filter(lambda x : x[-1]==character, enumerate(getTop(G, centrality, n=None), 1)))[0][0]\r\n",
        "    else:\r\n",
        "        return {k:i for i, (k, v) in enumerate(getTop(G, centrality, n=None).items(), 1)}\r\n",
        "\r\n",
        "def getCharacterCentralities(G, character=None):\r\n",
        "    if character:\r\n",
        "        return {'degree' : getRank(G, nx.degree_centrality, character), \r\n",
        "                'weighted_degree' : getRank(G, weighted_degree, character), \r\n",
        "                'eigenvector' : getRank(G, eigenvector_centrality, character),\r\n",
        "                'closeness' : getRank(G, nx.closeness_centrality, character),\r\n",
        "                'betweenness' : getRank(G, nx.betweenness_centrality, character),\r\n",
        "                'weighted_betweenness' : getRank(G, nx.betweenness_centrality, character),\r\n",
        "                'pagerank' : getRank(G, nx.pagerank, character)}\r\n",
        "    else:\r\n",
        "        return {'degree' : getRank(G, nx.degree_centrality), \r\n",
        "                'weighted_degree' : getRank(G, weighted_degree), \r\n",
        "                'eigenvector' : getRank(G, eigenvector_centrality),\r\n",
        "                'closeness' : getRank(G, nx.closeness_centrality),\r\n",
        "                'betweenness' : getRank(G, nx.betweenness_centrality),\r\n",
        "                'weighted_betweenness' : getRank(G, nx.betweenness_centrality),\r\n",
        "                'pagerank' : getRank(G, nx.pagerank)}\r\n",
        "def evolve(character, graphs, verbose=False):\r\n",
        "    evolution = []\r\n",
        "    if verbose:\r\n",
        "        itGraphs = tqdm(graphs)\r\n",
        "    else:\r\n",
        "        itGraphs = graphs\r\n",
        "    for G in itGraphs:\r\n",
        "        evolution.append(getCharacterCentralities(G, character))\r\n",
        "    return pd.DataFrame(evolution, index=[1, 2, 3, 4, 5])\r\n",
        "\r\n",
        "def plotSignificance(character, graphs, verbose=False):\r\n",
        "    df = evolve(character, graphs, verbose=verbose)*-1\r\n",
        "    # specify seaborn palette for plot\r\n",
        "    pal = sns.cubehelix_palette(start=2.8, rot=.1, n_colors=df.shape[-1], reverse=False)\r\n",
        "    # plot\r\n",
        "    plot = sns.lineplot(data=df, markers=True, dashes=False, palette=pal)\r\n",
        "    name = \" \".join(character.split('-'))\r\n",
        "    title = 'Significance of {} through 5 books'.format(name)\r\n",
        "    yticks = plt.yticks()[0]\r\n",
        "    yticks = np.insert(arr=yticks[yticks < 0].astype(int), obj=0, values=[-1])\r\n",
        "    plt.yticks(ticks=yticks, labels=yticks*-1)\r\n",
        "    plt.xticks([1, 2, 3, 4, 5])\r\n",
        "    plt.xlabel('Books')\r\n",
        "    plt.ylabel('Centrality Rank')\r\n",
        "    plot.set_title(title)\r\n",
        "    return plot\r\n",
        "\r\n",
        "def plotCharactersEvolution(characters : list, verbose=False):\r\n",
        "    nrows = ceil(len(characters)/2)\r\n",
        "    ncols = len(characters)%2+2\r\n",
        "    fig, axis = plt.subplots(nrows=nrows, ncols=ncols, figsize=(20, 6))\r\n",
        "\r\n",
        "    for ax, character in zip(axis, characters):\r\n",
        "        fig.add_subplot(ax, plotSignificance(character, graphs, verbose=verbose))\r\n",
        "\r\n",
        "    plt.show()"
      ],
      "execution_count": 24,
      "outputs": []
    },
    {
      "cell_type": "code",
      "metadata": {
        "colab": {
          "base_uri": "https://localhost:8080/",
          "height": 404
        },
        "id": "9Iswh73qfmu_",
        "outputId": "cda12e38-1983-4f92-9c2f-711f29dc4df1"
      },
      "source": [
        "plotCharactersEvolution(characters=['Eddard-Stark', 'Petyr-Baelish'], verbose=False)"
      ],
      "execution_count": 25,
      "outputs": [
        {
          "output_type": "display_data",
          "data": {
            "image/png": "[encoded data removed]",
            "text/plain": [
              "<Figure size 1440x432 with 2 Axes>"
            ]
          },
          "metadata": {
            "tags": [],
            "needs_background": "light"
          }
        }
      ]
    },
    {
      "cell_type": "markdown",
      "metadata": {
        "id": "z5NVgYlsxg7d"
      },
      "source": [
        "#### 9. Кто из персонажей самый влиятельный? \n",
        "Постройте сеть, объединяющую сети по всем книгам. Постройте таблицу наиболее влиятельных персонажей в зависимости от выбранной метрики.\n"
      ]
    },
    {
      "cell_type": "code",
      "metadata": {
        "collapsed": true,
        "id": "9wKQkP1Xxg7e"
      },
      "source": [
        "metrics=['degree centrality','weighted degree','eigenvector centrality',\n",
        "         'PageRank','closeness centrality','betweenness centrality']\n",
        "\n",
        "df = pd.DataFrame(columns=['centrality metrics', 'character'], index=list(np.arange(1,len(metrics)+1)))\n",
        "df['centrality metrics'] = metrics"
      ],
      "execution_count": 26,
      "outputs": []
    },
    {
      "cell_type": "code",
      "metadata": {
        "collapsed": true,
        "id": "7bCTGHL-xg7f"
      },
      "source": [
        "grouped = pd.concat([book1, book2, book3, book4, book5], axis=0).groupby(['Source', 'Target'])['weight'].sum()\r\n",
        "edges = np.array([np.array(pair) for pair in grouped.index.to_numpy()])\r\n",
        "books = pd.DataFrame(data={'Source' : edges[:,0], 'Target' : edges[:, 1], \r\n",
        "                          'weight' : grouped.values, 'type' : ['Undirected']*grouped.shape[0]})\r\n",
        "\r\n",
        "G = nx.from_pandas_edgelist(books, 'Source', 'Target', edge_attr=True, create_using=nx.Graph())"
      ],
      "execution_count": 27,
      "outputs": []
    },
    {
      "cell_type": "code",
      "metadata": {
        "id": "OnxCA4Fa8UaX"
      },
      "source": [
        "totalCentralities = getCharacterCentralities(G)\r\n",
        "df = pd.DataFrame(totalCentralities)"
      ],
      "execution_count": 28,
      "outputs": []
    },
    {
      "cell_type": "code",
      "metadata": {
        "id": "AGb2dxHk8Wcx"
      },
      "source": [
        "df.index = df.index.map(lambda x : ' '.join(x.split('-')))"
      ],
      "execution_count": 29,
      "outputs": []
    },
    {
      "cell_type": "code",
      "metadata": {
        "colab": {
          "base_uri": "https://localhost:8080/",
          "height": 419,
          "referenced_widgets": [
            "c5a90daeeea54384b35383724a5605e2",
            "5a3d4dbf9add46cfbb55fe9db4a030eb",
            "4c4bd156ed114047938267d3d938765e",
            "107e6e2100ff4a689f8e2d4987b76bbd",
            "eb69a92950a74016a29c31df673b1820",
            "db3ede6266b3419e9cb24b64822a7081",
            "7d8c9316bb2e4042954978aaa00488b8",
            "9c131490264343e3b9ea296d61d6d470",
            "b45b6b83d74244b19a500fd9da385bfc",
            "3e5bfc9184604f1fbce75e00160f2b07"
          ]
        },
        "id": "_XV0G77n8Wfj",
        "outputId": "b15d8bbc-620c-4d27-f6a6-2561c0948a80"
      },
      "source": [
        "@interact\r\n",
        "def showTop10(col=df.columns, topn=(1, 30)):\r\n",
        "    def highlight_cols(s):\r\n",
        "        color = sns.cubehelix_palette(start=2.8, rot=.1, n_colors=20).as_hex()[df.columns.get_loc(col)]\r\n",
        "        return 'background-color: %s' % color\r\n",
        "    return df.sort_values(by=col, ascending=True).head(topn).style.\\\r\n",
        "           applymap(highlight_cols, subset=pd.IndexSlice[:, [col]])"
      ],
      "execution_count": 30,
      "outputs": [
        {
          "output_type": "display_data",
          "data": {
            "application/vnd.jupyter.widget-view+json": {
              "model_id": "c5a90daeeea54384b35383724a5605e2",
              "version_minor": 0,
              "version_major": 2
            },
            "text/plain": [
              "interactive(children=(Dropdown(description='col', options=('degree', 'weighted_degree', 'eigenvector', 'closen…"
            ]
          },
          "metadata": {
            "tags": []
          }
        }
      ]
    },
    {
      "cell_type": "code",
      "metadata": {
        "id": "HEw3Gfb18jAr"
      },
      "source": [
        ""
      ],
      "execution_count": 30,
      "outputs": []
    }
  ]
}