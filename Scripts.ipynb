{
  "nbformat": 4,
  "nbformat_minor": 0,
  "metadata": {
    "kernelspec": {
      "display_name": "Python 3",
      "language": "python",
      "name": "python3"
    },
    "language_info": {
      "codemirror_mode": {
        "name": "ipython",
        "version": 3
      },
      "file_extension": ".py",
      "mimetype": "text/x-python",
      "name": "python",
      "nbconvert_exporter": "python",
      "pygments_lexer": "ipython3",
      "version": "3.7.1"
    },
    "colab": {
      "name": "Scripts.ipynb",
      "provenance": [],
      "collapsed_sections": []
    }
  },
  "cells": [
    {
      "cell_type": "markdown",
      "metadata": {
        "id": "Sm7_kwMr57kK"
      },
      "source": [
        "# Проект 693: \n",
        "# Извлечение графовых представлений сценариев фильмов и их анализ"
      ]
    },
    {
      "cell_type": "markdown",
      "metadata": {
        "id": "g04bkm1y57kZ"
      },
      "source": [
        "## Аннотация\n",
        "\n",
        "Предполагается построение динамического графа сюжета с выявлением персонажей, выявление типа и тональности отношений между персонажами. Базовая задача - сравнение графов и их кластеризация, как задача анализа построенных данных. Также предполагается исследовать подходы к генерации новых сюжетов, построение архитектуры нейросети для генерации динамических атрибутивных графов сюжетов с применением GANов на графах."
      ]
    },
    {
      "cell_type": "markdown",
      "metadata": {
        "id": "kg7oLZ7I57kb"
      },
      "source": [
        "## Задачи\n",
        "\n",
        "* **Собрать датасет по динамическим графам, описывающим эволюцию сюжетов**\n",
        "* **Построить эффективное векторное представление, позволяющее сравнивать структурную и атрибутивную схожесть сюжетов в графовом представлении**\n",
        "* Провести анализ кластеризации сюжетов\n",
        "* Рассмотреть возможности генерации графового представления сюжетов и оценки качества использования на практике подобной модели"
      ]
    },
    {
      "cell_type": "markdown",
      "metadata": {
        "id": "sXRkXLa257kb"
      },
      "source": [
        "### Собрать персонажей\n",
        "\n",
        "Важно:\n",
        "\n",
        "* пол (либо брать словарь имен, либо реализовывать, где-то такое было)\n",
        "\n",
        "* выделение перво- и второстепенных персонажей (обычно топ-5 персонажей)"
      ]
    },
    {
      "cell_type": "markdown",
      "metadata": {
        "id": "5RKLKn_l57kc"
      },
      "source": [
        "### Графы\n",
        "\n",
        "Вершины двух типов:\n",
        "* локации\n",
        "* персонажи"
      ]
    },
    {
      "cell_type": "code",
      "metadata": {
        "colab": {
          "base_uri": "https://localhost:8080/"
        },
        "id": "6Bt5i0Al9BOG",
        "outputId": "ee43e5fd-4bba-450a-cd45-ee4c3f433504"
      },
      "source": [
        "# так как использую колаб, надо дать доступ к гугл-диску\n",
        "from google.colab import drive\n",
        "drive.mount('/content/drive')"
      ],
      "execution_count": null,
      "outputs": [
        {
          "output_type": "stream",
          "text": [
            "Drive already mounted at /content/drive; to attempt to forcibly remount, call drive.mount(\"/content/drive\", force_remount=True).\n"
          ],
          "name": "stdout"
        }
      ]
    },
    {
      "cell_type": "code",
      "metadata": {
        "id": "vdYHuGlKmLK4"
      },
      "source": [
        "import json\n",
        "import os\n",
        "import networkx as nx\n",
        "import matplotlib.pyplot as plt\n",
        "%matplotlib inline\n",
        "import numpy as np\n",
        "from sklearn.cluster import KMeans\n",
        "import json\n",
        "import re\n",
        "from collections import Counter"
      ],
      "execution_count": null,
      "outputs": []
    },
    {
      "cell_type": "code",
      "metadata": {
        "colab": {
          "base_uri": "https://localhost:8080/",
          "height": 35
        },
        "id": "4Ha-OM20xZOD",
        "outputId": "b046df12-b641-46eb-f9a2-618cfb891976"
      },
      "source": [
        "'''\n",
        "!ls /content/drive/My\\ Drive/Colab\\ Notebooks/*.py\n",
        "'''"
      ],
      "execution_count": null,
      "outputs": [
        {
          "output_type": "execute_result",
          "data": {
            "application/vnd.google.colaboratory.intrinsic+json": {
              "type": "string"
            },
            "text/plain": [
              "'\\n!ls /content/drive/My\\\\ Drive/Colab\\\\ Notebooks/*.py\\n'"
            ]
          },
          "metadata": {
            "tags": []
          },
          "execution_count": 3
        }
      ]
    },
    {
      "cell_type": "code",
      "metadata": {
        "colab": {
          "base_uri": "https://localhost:8080/",
          "height": 35
        },
        "id": "oLFzg4-rxZXM",
        "outputId": "7fab07cb-06e4-4fd4-e0bb-fade4ef2d35d"
      },
      "source": [
        "'''\n",
        "!cat '/content/drive/My Drive/Colab Notebooks/json_helper.py'\n",
        "'''"
      ],
      "execution_count": null,
      "outputs": [
        {
          "output_type": "execute_result",
          "data": {
            "application/vnd.google.colaboratory.intrinsic+json": {
              "type": "string"
            },
            "text/plain": [
              "\"\\n!cat '/content/drive/My Drive/Colab Notebooks/json_helper.py'\\n\""
            ]
          },
          "metadata": {
            "tags": []
          },
          "execution_count": 4
        }
      ]
    },
    {
      "cell_type": "code",
      "metadata": {
        "colab": {
          "base_uri": "https://localhost:8080/",
          "height": 35
        },
        "id": "aV_7fa_8xZgJ",
        "outputId": "17df0bd0-537c-4ae0-d536-0365207c47c9"
      },
      "source": [
        "'''\n",
        "import sys\n",
        "sys.path.append('/content/drive/My Drive')\n",
        "'''"
      ],
      "execution_count": null,
      "outputs": [
        {
          "output_type": "execute_result",
          "data": {
            "application/vnd.google.colaboratory.intrinsic+json": {
              "type": "string"
            },
            "text/plain": [
              "\"\\nimport sys\\nsys.path.append('/content/drive/My Drive')\\n\""
            ]
          },
          "metadata": {
            "tags": []
          },
          "execution_count": 5
        }
      ]
    },
    {
      "cell_type": "code",
      "metadata": {
        "colab": {
          "base_uri": "https://localhost:8080/",
          "height": 35
        },
        "id": "3qOZnD9YC7zj",
        "outputId": "e3c010e8-4f1f-46a6-da20-566d0474f768"
      },
      "source": [
        "'''\n",
        "!python3 \"/content/drive/My Drive/Colab Notebooks/json_helper.py\"\n",
        "'''"
      ],
      "execution_count": null,
      "outputs": [
        {
          "output_type": "execute_result",
          "data": {
            "application/vnd.google.colaboratory.intrinsic+json": {
              "type": "string"
            },
            "text/plain": [
              "'\\n!python3 \"/content/drive/My Drive/Colab Notebooks/json_helper.py\"\\n'"
            ]
          },
          "metadata": {
            "tags": []
          },
          "execution_count": 6
        }
      ]
    },
    {
      "cell_type": "code",
      "metadata": {
        "colab": {
          "base_uri": "https://localhost:8080/",
          "height": 35
        },
        "id": "iKRvL-5hxYS-",
        "outputId": "c605bbf6-5e37-47e1-ce8c-2fc9c370e80b"
      },
      "source": [
        "'''\n",
        "import json_helper as jhlp\n",
        "'''"
      ],
      "execution_count": null,
      "outputs": [
        {
          "output_type": "execute_result",
          "data": {
            "application/vnd.google.colaboratory.intrinsic+json": {
              "type": "string"
            },
            "text/plain": [
              "'\\nimport json_helper as jhlp\\n'"
            ]
          },
          "metadata": {
            "tags": []
          },
          "execution_count": 7
        }
      ]
    },
    {
      "cell_type": "code",
      "metadata": {
        "colab": {
          "resources": {
            "http://localhost:8080/nbextensions/google.colab/files.js": {
              "data": "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",
              "ok": true,
              "headers": [
                [
                  "content-type",
                  "application/javascript"
                ]
              ],
              "status": 200,
              "status_text": ""
            }
          },
          "base_uri": "https://localhost:8080/",
          "height": 72
        },
        "id": "pNgbRFXv9BWu",
        "outputId": "befb7f54-86b9-4e08-d172-9a6caacd4c49"
      },
      "source": [
        "from google.colab import files\n",
        "src = list(files.upload().values())[0]\n",
        "open('/content/drive/My Drive/Colab Notebooks/json_helper.py','wb').write(src)\n",
        "import json_helper"
      ],
      "execution_count": null,
      "outputs": [
        {
          "output_type": "display_data",
          "data": {
            "text/html": [
              "\n",
              "     <input type=\"file\" id=\"files-7619e7f5-7c76-4c18-8914-20765d1c30de\" name=\"files[]\" multiple disabled\n",
              "        style=\"border:none\" />\n",
              "     <output id=\"result-7619e7f5-7c76-4c18-8914-20765d1c30de\">\n",
              "      Upload widget is only available when the cell has been executed in the\n",
              "      current browser session. Please rerun this cell to enable.\n",
              "      </output>\n",
              "      <script src=\"/nbextensions/google.colab/files.js\"></script> "
            ],
            "text/plain": [
              "<IPython.core.display.HTML object>"
            ]
          },
          "metadata": {
            "tags": []
          }
        },
        {
          "output_type": "stream",
          "text": [
            "Saving json_helper.py to json_helper (1).py\n"
          ],
          "name": "stdout"
        }
      ]
    },
    {
      "cell_type": "code",
      "metadata": {
        "id": "A3vEwFYlDqrM"
      },
      "source": [
        "import json_helper as jhlp"
      ],
      "execution_count": null,
      "outputs": []
    },
    {
      "cell_type": "markdown",
      "metadata": {
        "id": "ofOeakCF57kd"
      },
      "source": [
        "## Персонажи (пробный вариант для одного сценария)"
      ]
    },
    {
      "cell_type": "markdown",
      "metadata": {
        "id": "5FnR6Vwafg5F"
      },
      "source": [
        "### Работа со сценарием"
      ]
    },
    {
      "cell_type": "markdown",
      "metadata": {
        "id": "yVqjbHfegwSh"
      },
      "source": [
        "парсер\n",
        "\n",
        "``` parser.py ```"
      ]
    },
    {
      "cell_type": "code",
      "metadata": {
        "colab": {
          "base_uri": "https://localhost:8080/",
          "height": 103
        },
        "id": "vJqS_9Zbffb7",
        "outputId": "bf0cffdf-8bf1-4dc9-fe7a-8f159db74a68"
      },
      "source": [
        "'''\n",
        "import json\n",
        "import re\n",
        "\n",
        "def script_by_scenes(path_to_script):\n",
        "    \n",
        "    fp=open(path_to_script, 'r')\n",
        "    script=fp.readlines()\n",
        "    \n",
        "    script=[re.sub('<.*?>', '', s).rstrip('\\n').rstrip('\\r').strip() for s in script]\n",
        "    \n",
        "    def extra_conditions(string):\n",
        "        if( (string.find('Cont') or string.find('cont') or string.find('CONTINUED') or string.find(\"CONT'D\")) != -1):\n",
        "            flag=0\n",
        "        elif(string[0] == '(' != -1):\n",
        "            flag=0\n",
        "        else:\n",
        "            flag=1\n",
        "        return flag\n",
        "    \n",
        "    portions=list()\n",
        "    portion_id=0\n",
        "    portion_text=list()\n",
        "    \n",
        "    for line_id, line in enumerate(script):\n",
        "        portion_text.append(line)\n",
        "        \n",
        "        if(line_id == len(script)-1):\n",
        "            portions.append((portion_id, portion_text))\n",
        "            portion_text=list()\n",
        "            portion_id += 1\n",
        "            break\n",
        "        \n",
        "        tmp_line=''.join(e for e in script[line_id+1] if e.isalpha())\n",
        "\n",
        "        if(tmp_line.isupper() and extra_conditions(script[line_id+1])):\n",
        "            portions.append((portion_id, portion_text))\n",
        "            portion_text=list()\n",
        "            portion_id += 1\n",
        "\n",
        "    portions=[p for p in portions if p[1][0]!='']\n",
        "    \n",
        "    characters_tmp=[tmp[1][0] for tmp in portions]\n",
        "    characters_tmp=[re.sub('\\(.*?\\)', '', tmp).strip() for tmp in characters_tmp]\n",
        "    from collections import Counter\n",
        "    characters_tmp=zip(Counter(characters_tmp).keys(), Counter(characters_tmp).values())\n",
        "    characters=[tmp[0] for tmp in characters_tmp if tmp[1] > 10 and (tmp[0].find('CUT') == -1)]\n",
        "    scene_names=[tmp[0] for tmp in characters_tmp if tmp[0] not in characters]\n",
        "    \n",
        "    scenes=list()\n",
        "    scene_id=1\n",
        "    scene=list()\n",
        "    \n",
        "    for portion in portions:\n",
        "        scene.append(portion[1])\n",
        "        if(portion[0] != len(portions)):\n",
        "            next_name = re.sub('\\(.*?\\)', '', portions[portion[0]][1][0])\n",
        "        else:\n",
        "            break\n",
        "        if next_name in scene_names:\n",
        "            scenes.append((scene_id, scene))\n",
        "            scene_id += 1\n",
        "            scene=list()\n",
        "            \n",
        "    return scenes, characters, scene_names\n",
        "    \n",
        "def parse_data(path_to_script):  \n",
        "  \n",
        "    scenes, list_of_chars, list_of_scenes =script_by_scenes(path_to_script)\n",
        "    all_scenes=dict()\n",
        "    cntr=0\n",
        "    \n",
        "    for scene_content in scenes:\n",
        "    \n",
        "        scene = dict()\n",
        "        scene_formatted = dict()\n",
        "        scene_desc_list = list()\n",
        "        char_dialogues = list()\n",
        "        \n",
        "        scene_part_id=1\n",
        "      \n",
        "        for scene_part in scene_content[1]:        \n",
        "            \n",
        "            if scene_part_id == 1:\n",
        "                scene_part_type = 'SCENE_DESC'\n",
        "                scene_part_name = scene_part[0]\n",
        "                scene_part_content = \"\"\n",
        "                for sp in scene_part[1:]:\n",
        "                    scene_part_content += sp + \" \" \n",
        "                scene[scene_part_id] = {scene_part_name : (scene_part_type, scene_part_content)} \n",
        "                scene_part_id += 1\n",
        "                continue    \n",
        "            \n",
        "            if re.sub('\\(.*?\\)', '', scene_part[0]).strip() in list_of_chars:\n",
        "                scene_part_type = 'DIALOGUE'\n",
        "                \n",
        "            else:\n",
        "                #print \"Scene_Part_Type should only be dialogues of chars: %s\" % scene_part[0]\n",
        "                break\n",
        "                \n",
        "            scene_part_name = re.sub('\\(.*?\\)', '', scene_part[0]).strip()\n",
        "            dialogue = \"\"       \n",
        "            \n",
        "            flag=1\n",
        "            index=-1\n",
        "            for idx,sp in enumerate(scene_part[1:]):\n",
        "                \n",
        "                if sp == '':\n",
        "                    index = idx +1\n",
        "                    break\n",
        "                if sp[0] == '(' and sp.find(')') != -1:\n",
        "                    flag = 1\n",
        "                    dialogue += sp + '\\n'\n",
        "                    continue\n",
        "                elif sp[0] == '(' and sp.find(')') == -1:\n",
        "                    flag = 0\n",
        "                    dialogue += sp + ' '\n",
        "                    continue\n",
        "                if flag == 0 and sp.find(')') != -1:\n",
        "                    flag = 1\n",
        "                    dialogue += sp + '\\n'\n",
        "                    continue\n",
        "                if flag == 0 and sp.find(')') == -1:\n",
        "                    flag = 0\n",
        "                    dialogue += sp + ' '\n",
        "                    continue\n",
        "                \n",
        "                dialogue += sp + ' '\n",
        "            \n",
        "            scene[scene_part_id] = {scene_part_name : (scene_part_type, dialogue)} \n",
        "            scene_part_id += 1\n",
        "                   \n",
        "                   \n",
        "            if index+1 >= len(scene_part):\n",
        "                break\n",
        "    \n",
        "            desc_following_dialogue = \"\" \n",
        "            scene_part_type = \"SCENE_DESC_FOLLOWING_DIALOGUE\"\n",
        "            scene_part_name = re.sub('\\(.*?\\)', '', scene_part[0]).strip()\n",
        "    \n",
        "            for idx,sp in enumerate(scene_part[index+1:]):\n",
        "                desc_following_dialogue += sp + \" \"\n",
        "            \n",
        "            scene[scene_part_id] = {scene_part_name : (scene_part_type, desc_following_dialogue)} \n",
        "            scene_part_id += 1\n",
        "            \n",
        "        \n",
        "        for k,v in scene.items():\n",
        "            if v.values()[0][0] == 'SCENE_DESC_FOLLOWING_DIALOGUE' or v.values()[0][0] == 'SCENE_DESC':\n",
        "                scene_desc_list.append([k, v.values()[0][1]])\n",
        "            elif v.values()[0][0] == 'DIALOGUE':\n",
        "                char_dialogues.append([k, v.keys()[0], v.values()[0][1]])\n",
        "    \n",
        "        scene_formatted['scene_descriptons_list'] = scene_desc_list\n",
        "        scene_formatted['char_dialogues'] = char_dialogues\n",
        "        if len(char_dialogues) > 0:\n",
        "            cntr += 1\n",
        "        all_scenes[scene_content[0]] = scene_formatted\n",
        "    \n",
        "    print(\"All Scenes Processed\")\n",
        "    \n",
        "    if len(all_scenes) == 0:\n",
        "        return all_scenes, -1\n",
        "        \n",
        "    \n",
        "    print(cntr*1.0/len(all_scenes))\n",
        "    \n",
        "    return all_scenes, cntr*1.0/len(all_scenes)\n",
        "\n",
        "import os\n",
        "scripts=os.listdir('/content/drive/My Drive/Colab Notebooks/json')\n",
        "\n",
        "try: \n",
        "    os.makedirs('/content/drive/My Drive/Colab Notebooks/json')\n",
        "except OSError:\n",
        "    if not os.path.isdir('/content/drive/My Drive/Colab Notebooks/json'):\n",
        "        raise\n",
        "\n",
        "for cntr,script in enumerate(scripts):\n",
        "    print(\"Parsing Script %s : %d/%d\" % (script.strip('.txt'), cntr+1, len(scripts)))\n",
        "    processed_scenes, flag = parse_data('/content/drive/My Drive/Colab Notebooks/json/%s' % script)\n",
        "    if flag >= 0.75:\n",
        "        with open('/content/drive/My Drive/Colab Notebooks/json/%s.json' % script.strip('.txt'), 'w') as fp:        \n",
        "            json.dump(processed_scenes, fp)\n",
        "\n",
        "'''"
      ],
      "execution_count": null,
      "outputs": [
        {
          "output_type": "execute_result",
          "data": {
            "application/vnd.google.colaboratory.intrinsic+json": {
              "type": "string"
            },
            "text/plain": [
              "'\\nimport json\\nimport re\\n\\ndef script_by_scenes(path_to_script):\\n    \\n    fp=open(path_to_script, \\'r\\')\\n    script=fp.readlines()\\n    \\n    script=[re.sub(\\'<.*?>\\', \\'\\', s).rstrip(\\'\\n\\').rstrip(\\'\\r\\').strip() for s in script]\\n    \\n    def extra_conditions(string):\\n        if( (string.find(\\'Cont\\') or string.find(\\'cont\\') or string.find(\\'CONTINUED\\') or string.find(\"CONT\\'D\")) != -1):\\n            flag=0\\n        elif(string[0] == \\'(\\' != -1):\\n            flag=0\\n        else:\\n            flag=1\\n        return flag\\n    \\n    portions=list()\\n    portion_id=0\\n    portion_text=list()\\n    \\n    for line_id, line in enumerate(script):\\n        portion_text.append(line)\\n        \\n        if(line_id == len(script)-1):\\n            portions.append((portion_id, portion_text))\\n            portion_text=list()\\n            portion_id += 1\\n            break\\n        \\n        tmp_line=\\'\\'.join(e for e in script[line_id+1] if e.isalpha())\\n\\n        if(tmp_line.isupper() and extra_conditions(script[line_id+1])):\\n            portions.append((portion_id, portion_text))\\n            portion_text=list()\\n            portion_id += 1\\n\\n    portions=[p for p in portions if p[1][0]!=\\'\\']\\n    \\n    characters_tmp=[tmp[1][0] for tmp in portions]\\n    characters_tmp=[re.sub(\\'\\\\(.*?\\\\)\\', \\'\\', tmp).strip() for tmp in characters_tmp]\\n    from collections import Counter\\n    characters_tmp=zip(Counter(characters_tmp).keys(), Counter(characters_tmp).values())\\n    characters=[tmp[0] for tmp in characters_tmp if tmp[1] > 10 and (tmp[0].find(\\'CUT\\') == -1)]\\n    scene_names=[tmp[0] for tmp in characters_tmp if tmp[0] not in characters]\\n    \\n    scenes=list()\\n    scene_id=1\\n    scene=list()\\n    \\n    for portion in portions:\\n        scene.append(portion[1])\\n        if(portion[0] != len(portions)):\\n            next_name = re.sub(\\'\\\\(.*?\\\\)\\', \\'\\', portions[portion[0]][1][0])\\n        else:\\n            break\\n        if next_name in scene_names:\\n            scenes.append((scene_id, scene))\\n            scene_id += 1\\n            scene=list()\\n            \\n    return scenes, characters, scene_names\\n    \\ndef parse_data(path_to_script):  \\n  \\n    scenes, list_of_chars, list_of_scenes =script_by_scenes(path_to_script)\\n    all_scenes=dict()\\n    cntr=0\\n    \\n    for scene_content in scenes:\\n    \\n        scene = dict()\\n        scene_formatted = dict()\\n        scene_desc_list = list()\\n        char_dialogues = list()\\n        \\n        scene_part_id=1\\n      \\n        for scene_part in scene_content[1]:        \\n            \\n            if scene_part_id == 1:\\n                scene_part_type = \\'SCENE_DESC\\'\\n                scene_part_name = scene_part[0]\\n                scene_part_content = \"\"\\n                for sp in scene_part[1:]:\\n                    scene_part_content += sp + \" \" \\n                scene[scene_part_id] = {scene_part_name : (scene_part_type, scene_part_content)} \\n                scene_part_id += 1\\n                continue    \\n            \\n            if re.sub(\\'\\\\(.*?\\\\)\\', \\'\\', scene_part[0]).strip() in list_of_chars:\\n                scene_part_type = \\'DIALOGUE\\'\\n                \\n            else:\\n                #print \"Scene_Part_Type should only be dialogues of chars: %s\" % scene_part[0]\\n                break\\n                \\n            scene_part_name = re.sub(\\'\\\\(.*?\\\\)\\', \\'\\', scene_part[0]).strip()\\n            dialogue = \"\"       \\n            \\n            flag=1\\n            index=-1\\n            for idx,sp in enumerate(scene_part[1:]):\\n                \\n                if sp == \\'\\':\\n                    index = idx +1\\n                    break\\n                if sp[0] == \\'(\\' and sp.find(\\')\\') != -1:\\n                    flag = 1\\n                    dialogue += sp + \\'\\n\\'\\n                    continue\\n                elif sp[0] == \\'(\\' and sp.find(\\')\\') == -1:\\n                    flag = 0\\n                    dialogue += sp + \\' \\'\\n                    continue\\n                if flag == 0 and sp.find(\\')\\') != -1:\\n                    flag = 1\\n                    dialogue += sp + \\'\\n\\'\\n                    continue\\n                if flag == 0 and sp.find(\\')\\') == -1:\\n                    flag = 0\\n                    dialogue += sp + \\' \\'\\n                    continue\\n                \\n                dialogue += sp + \\' \\'\\n            \\n            scene[scene_part_id] = {scene_part_name : (scene_part_type, dialogue)} \\n            scene_part_id += 1\\n                   \\n                   \\n            if index+1 >= len(scene_part):\\n                break\\n    \\n            desc_following_dialogue = \"\" \\n            scene_part_type = \"SCENE_DESC_FOLLOWING_DIALOGUE\"\\n            scene_part_name = re.sub(\\'\\\\(.*?\\\\)\\', \\'\\', scene_part[0]).strip()\\n    \\n            for idx,sp in enumerate(scene_part[index+1:]):\\n                desc_following_dialogue += sp + \" \"\\n            \\n            scene[scene_part_id] = {scene_part_name : (scene_part_type, desc_following_dialogue)} \\n            scene_part_id += 1\\n            \\n        \\n        for k,v in scene.items():\\n            if v.values()[0][0] == \\'SCENE_DESC_FOLLOWING_DIALOGUE\\' or v.values()[0][0] == \\'SCENE_DESC\\':\\n                scene_desc_list.append([k, v.values()[0][1]])\\n            elif v.values()[0][0] == \\'DIALOGUE\\':\\n                char_dialogues.append([k, v.keys()[0], v.values()[0][1]])\\n    \\n        scene_formatted[\\'scene_descriptons_list\\'] = scene_desc_list\\n        scene_formatted[\\'char_dialogues\\'] = char_dialogues\\n        if len(char_dialogues) > 0:\\n            cntr += 1\\n        all_scenes[scene_content[0]] = scene_formatted\\n    \\n    print(\"All Scenes Processed\")\\n    \\n    if len(all_scenes) == 0:\\n        return all_scenes, -1\\n        \\n    \\n    print(cntr*1.0/len(all_scenes))\\n    \\n    return all_scenes, cntr*1.0/len(all_scenes)\\n\\nimport os\\nscripts=os.listdir(\\'/content/drive/My Drive/Colab Notebooks/json\\')\\n\\ntry: \\n    os.makedirs(\\'/content/drive/My Drive/Colab Notebooks/json\\')\\nexcept OSError:\\n    if not os.path.isdir(\\'/content/drive/My Drive/Colab Notebooks/json\\'):\\n        raise\\n\\nfor cntr,script in enumerate(scripts):\\n    print(\"Parsing Script %s : %d/%d\" % (script.strip(\\'.txt\\'), cntr+1, len(scripts)))\\n    processed_scenes, flag = parse_data(\\'/content/drive/My Drive/Colab Notebooks/json/%s\\' % script)\\n    if flag >= 0.75:\\n        with open(\\'/content/drive/My Drive/Colab Notebooks/json/%s.json\\' % script.strip(\\'.txt\\'), \\'w\\') as fp:        \\n            json.dump(processed_scenes, fp)\\n\\n'"
            ]
          },
          "metadata": {
            "tags": []
          },
          "execution_count": 10
        }
      ]
    },
    {
      "cell_type": "code",
      "metadata": {
        "id": "UvI_2Kz7ffd9"
      },
      "source": [
        ""
      ],
      "execution_count": null,
      "outputs": []
    },
    {
      "cell_type": "markdown",
      "metadata": {
        "id": "OI0MTx51igmd"
      },
      "source": [
        "``` chars_scenes.py ```"
      ]
    },
    {
      "cell_type": "code",
      "metadata": {
        "colab": {
          "base_uri": "https://localhost:8080/",
          "height": 103
        },
        "id": "kspblo2vffgF",
        "outputId": "5224c081-07b5-4727-eff9-f156e948c23e"
      },
      "source": [
        "'''\n",
        "import json\n",
        "import re\n",
        "from collections import Counter\n",
        "\n",
        "def script_by_scenes(path_to_script):\n",
        "    \n",
        "    fp=open(path_to_script, 'r')\n",
        "    script=fp.readlines()\n",
        "    script=[re.sub(\"[\\(\\[].*?[\\)\\]]\", \"\", re.sub('<.*?>', '', s).rstrip('\\n').rstrip('\\r').strip()).rstrip('\\n').rstrip('\\r').strip() for s in script]\n",
        "    scene_break=list()\n",
        "    scene_break=[l for l in script if l.isupper()]\n",
        "    \n",
        "    list_of_chars=dict(Counter(scene_break))\n",
        "    list_of_chars=[k for k,v in list_of_chars.items() if (v>=5 and (k.find('CUT') == -1 and k.find('INT.') == -1 and k.find('EXT.') == -1 ))]\n",
        "    scenes = dict()\n",
        "    cntr=1\n",
        "    scenes[1]=list()\n",
        "    for l in scene_break:\n",
        "        if l in list_of_chars:\n",
        "            scenes[cntr].append(l)\n",
        "        else:\n",
        "            if len(scenes[cntr])!=0:\n",
        "                cntr += 1\n",
        "                scenes[cntr]=list()\n",
        "    if len(scenes[cntr])==0:\n",
        "        del scenes[cntr]\n",
        "            \n",
        "    return scenes\n",
        "   \n",
        "\n",
        "import os\n",
        "scripts=os.listdir('...')\n",
        "\n",
        "try: \n",
        "    os.makedirs('/content/drive/My Drive/Colab Notebooks/json')\n",
        "except OSError:\n",
        "    if not os.path.isdir('/content/drive/My Drive/Colab Notebooks/json'):\n",
        "        raise\n",
        "\n",
        "for cntr,script in enumerate(scripts):\n",
        "    print(\"Parsing Script %s : %d/%d\" % (script.strip('.txt'), cntr+1, len(scripts)))\n",
        "    with open('/content/drive/My Drive/Colab Notebooks/json/%s.json' % script.strip('.txt'), 'w') as fp:        \n",
        "        json.dump(script_by_scenes('.../%s'% script), fp)\n",
        "'''"
      ],
      "execution_count": null,
      "outputs": [
        {
          "output_type": "execute_result",
          "data": {
            "application/vnd.google.colaboratory.intrinsic+json": {
              "type": "string"
            },
            "text/plain": [
              "'\\nimport json\\nimport re\\nfrom collections import Counter\\n\\ndef script_by_scenes(path_to_script):\\n    \\n    fp=open(path_to_script, \\'r\\')\\n    script=fp.readlines()\\n    script=[re.sub(\"[\\\\(\\\\[].*?[\\\\)\\\\]]\", \"\", re.sub(\\'<.*?>\\', \\'\\', s).rstrip(\\'\\n\\').rstrip(\\'\\r\\').strip()).rstrip(\\'\\n\\').rstrip(\\'\\r\\').strip() for s in script]\\n    scene_break=list()\\n    scene_break=[l for l in script if l.isupper()]\\n    \\n    list_of_chars=dict(Counter(scene_break))\\n    list_of_chars=[k for k,v in list_of_chars.items() if (v>=5 and (k.find(\\'CUT\\') == -1 and k.find(\\'INT.\\') == -1 and k.find(\\'EXT.\\') == -1 ))]\\n    scenes = dict()\\n    cntr=1\\n    scenes[1]=list()\\n    for l in scene_break:\\n        if l in list_of_chars:\\n            scenes[cntr].append(l)\\n        else:\\n            if len(scenes[cntr])!=0:\\n                cntr += 1\\n                scenes[cntr]=list()\\n    if len(scenes[cntr])==0:\\n        del scenes[cntr]\\n            \\n    return scenes\\n   \\n\\nimport os\\nscripts=os.listdir(\\'...\\')\\n\\ntry: \\n    os.makedirs(\\'/content/drive/My Drive/Colab Notebooks/json\\')\\nexcept OSError:\\n    if not os.path.isdir(\\'/content/drive/My Drive/Colab Notebooks/json\\'):\\n        raise\\n\\nfor cntr,script in enumerate(scripts):\\n    print(\"Parsing Script %s : %d/%d\" % (script.strip(\\'.txt\\'), cntr+1, len(scripts)))\\n    with open(\\'/content/drive/My Drive/Colab Notebooks/json/%s.json\\' % script.strip(\\'.txt\\'), \\'w\\') as fp:        \\n        json.dump(script_by_scenes(\\'.../%s\\'% script), fp)\\n'"
            ]
          },
          "metadata": {
            "tags": []
          },
          "execution_count": 11
        }
      ]
    },
    {
      "cell_type": "code",
      "metadata": {
        "id": "14xKgRFGffiV"
      },
      "source": [
        ""
      ],
      "execution_count": null,
      "outputs": []
    },
    {
      "cell_type": "code",
      "metadata": {
        "id": "qr8zduP5ffkd"
      },
      "source": [
        ""
      ],
      "execution_count": null,
      "outputs": []
    },
    {
      "cell_type": "markdown",
      "metadata": {
        "id": "uioPEmXDl93C"
      },
      "source": [
        "Персонажи"
      ]
    },
    {
      "cell_type": "code",
      "metadata": {
        "colab": {
          "base_uri": "https://localhost:8080/",
          "height": 316
        },
        "id": "zDtFSOoAff1y",
        "outputId": "41a5f14c-acf7-4d8f-d3f7-e7dc8c44c58c"
      },
      "source": [
        "json_path = \"/content/drive/My Drive/Colab Notebooks/json\"\n",
        "movie_jsons = [json_path+'/' + json_name for json_name in os.listdir(json_path)]\n",
        "script_dicts = []\n",
        "for movie_json in movie_jsons:\n",
        "    with open(movie_json) as f:\n",
        "        script_dicts.append(json.loads(f.read()))"
      ],
      "execution_count": null,
      "outputs": [
        {
          "output_type": "error",
          "ename": "UnicodeDecodeError",
          "evalue": "ignored",
          "traceback": [
            "\u001b[0;31m---------------------------------------------------------------------------\u001b[0m",
            "\u001b[0;31mUnicodeDecodeError\u001b[0m                        Traceback (most recent call last)",
            "\u001b[0;32m<ipython-input-12-f7e73f2ce50b>\u001b[0m in \u001b[0;36m<module>\u001b[0;34m()\u001b[0m\n\u001b[1;32m      4\u001b[0m \u001b[0;32mfor\u001b[0m \u001b[0mmovie_json\u001b[0m \u001b[0;32min\u001b[0m \u001b[0mmovie_jsons\u001b[0m\u001b[0;34m:\u001b[0m\u001b[0;34m\u001b[0m\u001b[0;34m\u001b[0m\u001b[0m\n\u001b[1;32m      5\u001b[0m     \u001b[0;32mwith\u001b[0m \u001b[0mopen\u001b[0m\u001b[0;34m(\u001b[0m\u001b[0mmovie_json\u001b[0m\u001b[0;34m)\u001b[0m \u001b[0;32mas\u001b[0m \u001b[0mf\u001b[0m\u001b[0;34m:\u001b[0m\u001b[0;34m\u001b[0m\u001b[0;34m\u001b[0m\u001b[0m\n\u001b[0;32m----> 6\u001b[0;31m         \u001b[0mscript_dicts\u001b[0m\u001b[0;34m.\u001b[0m\u001b[0mappend\u001b[0m\u001b[0;34m(\u001b[0m\u001b[0mjson\u001b[0m\u001b[0;34m.\u001b[0m\u001b[0mloads\u001b[0m\u001b[0;34m(\u001b[0m\u001b[0mf\u001b[0m\u001b[0;34m.\u001b[0m\u001b[0mread\u001b[0m\u001b[0;34m(\u001b[0m\u001b[0;34m)\u001b[0m\u001b[0;34m)\u001b[0m\u001b[0;34m)\u001b[0m\u001b[0;34m\u001b[0m\u001b[0;34m\u001b[0m\u001b[0m\n\u001b[0m",
            "\u001b[0;32m/usr/lib/python3.6/codecs.py\u001b[0m in \u001b[0;36mdecode\u001b[0;34m(self, input, final)\u001b[0m\n\u001b[1;32m    319\u001b[0m         \u001b[0;31m# decode input (taking the buffer into account)\u001b[0m\u001b[0;34m\u001b[0m\u001b[0;34m\u001b[0m\u001b[0;34m\u001b[0m\u001b[0m\n\u001b[1;32m    320\u001b[0m         \u001b[0mdata\u001b[0m \u001b[0;34m=\u001b[0m \u001b[0mself\u001b[0m\u001b[0;34m.\u001b[0m\u001b[0mbuffer\u001b[0m \u001b[0;34m+\u001b[0m \u001b[0minput\u001b[0m\u001b[0;34m\u001b[0m\u001b[0;34m\u001b[0m\u001b[0m\n\u001b[0;32m--> 321\u001b[0;31m         \u001b[0;34m(\u001b[0m\u001b[0mresult\u001b[0m\u001b[0;34m,\u001b[0m \u001b[0mconsumed\u001b[0m\u001b[0;34m)\u001b[0m \u001b[0;34m=\u001b[0m \u001b[0mself\u001b[0m\u001b[0;34m.\u001b[0m\u001b[0m_buffer_decode\u001b[0m\u001b[0;34m(\u001b[0m\u001b[0mdata\u001b[0m\u001b[0;34m,\u001b[0m \u001b[0mself\u001b[0m\u001b[0;34m.\u001b[0m\u001b[0merrors\u001b[0m\u001b[0;34m,\u001b[0m \u001b[0mfinal\u001b[0m\u001b[0;34m)\u001b[0m\u001b[0;34m\u001b[0m\u001b[0;34m\u001b[0m\u001b[0m\n\u001b[0m\u001b[1;32m    322\u001b[0m         \u001b[0;31m# keep undecoded input until the next call\u001b[0m\u001b[0;34m\u001b[0m\u001b[0;34m\u001b[0m\u001b[0;34m\u001b[0m\u001b[0m\n\u001b[1;32m    323\u001b[0m         \u001b[0mself\u001b[0m\u001b[0;34m.\u001b[0m\u001b[0mbuffer\u001b[0m \u001b[0;34m=\u001b[0m \u001b[0mdata\u001b[0m\u001b[0;34m[\u001b[0m\u001b[0mconsumed\u001b[0m\u001b[0;34m:\u001b[0m\u001b[0;34m]\u001b[0m\u001b[0;34m\u001b[0m\u001b[0;34m\u001b[0m\u001b[0m\n",
            "\u001b[0;31mUnicodeDecodeError\u001b[0m: 'utf-8' codec can't decode byte 0x9c in position 60: invalid start byte"
          ]
        }
      ]
    },
    {
      "cell_type": "code",
      "metadata": {
        "id": "TJ37SUn1ff4O"
      },
      "source": [
        "#find all characters present in a scene from scene descriptions and dialogues\n",
        "def get_chars_for_scene(scene, all_char_list):\n",
        "    chars_from_desc = set()\n",
        "    chars_from_dialogue = set()\n",
        "    desc = jhlp.get_description_for_scene(scene)\n",
        "    for c in all_char_list:\n",
        "        if c in desc:\n",
        "            chars_from_desc.add(c)\n",
        "    for d in scene['char_dialogues']:\n",
        "        if d[1] in all_char_list:\n",
        "            chars_from_dialogue.add(d[1])\n",
        "    return list(chars_from_desc), list(chars_from_dialogue)"
      ],
      "execution_count": null,
      "outputs": []
    },
    {
      "cell_type": "code",
      "metadata": {
        "id": "lRszuE66ff6j"
      },
      "source": [
        "#graph formation method I\n",
        "#a scene interaction is registered if two characters co-occur\n",
        "#a better approach is used later\n",
        "#this gives great results too\n",
        "\n",
        "graphs_I = []\n",
        "for script_dict in script_dicts:\n",
        "    all_char_list = jhlp.get_all_char_from_script(script_dict)\n",
        "    graph = nx.Graph()\n",
        "    for key in script_dict:\n",
        "        scene = script_dict[key]\n",
        "        a, b = get_chars_for_scene(scene, all_char_list)\n",
        "        for char1 in b:\n",
        "            for char2 in b:\n",
        "                if char1 == char2:\n",
        "                    continue\n",
        "                if not graph.has_edge(char1, char2):\n",
        "                    graph.add_edge(char1, char2, weight=1)\n",
        "                else:\n",
        "                    graph[char1][char2]['weight'] += 1\n",
        "    graphs_I.append(graph)"
      ],
      "execution_count": null,
      "outputs": []
    },
    {
      "cell_type": "code",
      "metadata": {
        "id": "a2a7U6OVff81"
      },
      "source": [
        ""
      ],
      "execution_count": null,
      "outputs": []
    },
    {
      "cell_type": "code",
      "metadata": {
        "id": "iatgbsgw57ki"
      },
      "source": [
        "plt.style.use('ggplot')"
      ],
      "execution_count": null,
      "outputs": []
    },
    {
      "cell_type": "code",
      "metadata": {
        "id": "dWPlgul457ki"
      },
      "source": [
        "movies = ['Inception', 'Gravity', 'Gladiator']\n",
        "json_path = \"/content/drive/My Drive/Colab Notebooks/json\"\n",
        "movie_jsons = [json_path+'/'+movie+'.json' for movie in movies]\n",
        "script_dicts = []\n",
        "for movie_json in movie_jsons:\n",
        "    with open(movie_json) as f:\n",
        "        script_dicts.append(json.loads(f.read()))"
      ],
      "execution_count": null,
      "outputs": []
    },
    {
      "cell_type": "code",
      "metadata": {
        "id": "2VqP5HOd57ki"
      },
      "source": [
        "#find character interactions for a scene\n",
        "def get_chars_for_scene(scene, all_char_list):\n",
        "    chars_from_desc = set()\n",
        "    chars_from_dialogue = set()\n",
        "    desc = jhlp.get_description_for_scene(scene)\n",
        "    for c in all_char_list:\n",
        "        if c in desc:\n",
        "            chars_from_desc.add(c)\n",
        "    for d in scene['char_dialogues']:\n",
        "        if d[1] in all_char_list:\n",
        "            chars_from_dialogue.add(d[1])\n",
        "    return list(chars_from_desc), list(chars_from_dialogue)"
      ],
      "execution_count": null,
      "outputs": []
    },
    {
      "cell_type": "code",
      "metadata": {
        "id": "SaMMr8r057kj",
        "colab": {
          "base_uri": "https://localhost:8080/",
          "height": 350
        },
        "outputId": "ad63f627-f49f-4264-e767-62c1e1e05390"
      },
      "source": [
        "#graph formation method I\n",
        "graphs = []\n",
        "for script_dict in script_dicts:\n",
        "    all_char_list = jhlp.get_all_char_from_script(script_dict)\n",
        "    graph = nx.Graph()\n",
        "    for key in script_dict:\n",
        "        scene = script_dict[key]\n",
        "        a, b = get_chars_for_scene(scene, all_char_list)\n",
        "        for char1 in b:\n",
        "            for char2 in b:\n",
        "                if char1 == char2:\n",
        "                    continue\n",
        "                if not graph.has_edge(char1, char2):\n",
        "                    graph.add_edge(char1, char2, weight=1)\n",
        "                else:\n",
        "                    graph[char1][char2]['weight'] += 1\n",
        "    graphs.append(graph)"
      ],
      "execution_count": null,
      "outputs": [
        {
          "output_type": "error",
          "ename": "TypeError",
          "evalue": "ignored",
          "traceback": [
            "\u001b[0;31m---------------------------------------------------------------------------\u001b[0m",
            "\u001b[0;31mTypeError\u001b[0m                                 Traceback (most recent call last)",
            "\u001b[0;32m<ipython-input-20-145e3598285b>\u001b[0m in \u001b[0;36m<module>\u001b[0;34m()\u001b[0m\n\u001b[1;32m      2\u001b[0m \u001b[0mgraphs\u001b[0m \u001b[0;34m=\u001b[0m \u001b[0;34m[\u001b[0m\u001b[0;34m]\u001b[0m\u001b[0;34m\u001b[0m\u001b[0;34m\u001b[0m\u001b[0m\n\u001b[1;32m      3\u001b[0m \u001b[0;32mfor\u001b[0m \u001b[0mscript_dict\u001b[0m \u001b[0;32min\u001b[0m \u001b[0mscript_dicts\u001b[0m\u001b[0;34m:\u001b[0m\u001b[0;34m\u001b[0m\u001b[0;34m\u001b[0m\u001b[0m\n\u001b[0;32m----> 4\u001b[0;31m     \u001b[0mall_char_list\u001b[0m \u001b[0;34m=\u001b[0m \u001b[0mjhlp\u001b[0m\u001b[0;34m.\u001b[0m\u001b[0mget_all_char_from_script\u001b[0m\u001b[0;34m(\u001b[0m\u001b[0mscript_dict\u001b[0m\u001b[0;34m)\u001b[0m\u001b[0;34m\u001b[0m\u001b[0;34m\u001b[0m\u001b[0m\n\u001b[0m\u001b[1;32m      5\u001b[0m     \u001b[0mgraph\u001b[0m \u001b[0;34m=\u001b[0m \u001b[0mnx\u001b[0m\u001b[0;34m.\u001b[0m\u001b[0mGraph\u001b[0m\u001b[0;34m(\u001b[0m\u001b[0;34m)\u001b[0m\u001b[0;34m\u001b[0m\u001b[0;34m\u001b[0m\u001b[0m\n\u001b[1;32m      6\u001b[0m     \u001b[0;32mfor\u001b[0m \u001b[0mkey\u001b[0m \u001b[0;32min\u001b[0m \u001b[0mscript_dict\u001b[0m\u001b[0;34m:\u001b[0m\u001b[0;34m\u001b[0m\u001b[0;34m\u001b[0m\u001b[0m\n",
            "\u001b[0;32m/content/json_helper.py\u001b[0m in \u001b[0;36mget_all_char_from_script\u001b[0;34m(script_dict)\u001b[0m\n\u001b[1;32m     30\u001b[0m     \u001b[0mchars\u001b[0m \u001b[0;34m=\u001b[0m \u001b[0mset\u001b[0m\u001b[0;34m(\u001b[0m\u001b[0;34m)\u001b[0m\u001b[0;34m\u001b[0m\u001b[0;34m\u001b[0m\u001b[0m\n\u001b[1;32m     31\u001b[0m     \u001b[0;32mfor\u001b[0m \u001b[0mkey\u001b[0m \u001b[0;32min\u001b[0m \u001b[0mscript_dict\u001b[0m\u001b[0;34m:\u001b[0m \u001b[0;31m#foreach scene in script\u001b[0m\u001b[0;34m\u001b[0m\u001b[0;34m\u001b[0m\u001b[0m\n\u001b[0;32m---> 32\u001b[0;31m         \u001b[0;32mfor\u001b[0m \u001b[0mdialogue\u001b[0m \u001b[0;32min\u001b[0m \u001b[0mscript_dict\u001b[0m\u001b[0;34m[\u001b[0m\u001b[0mkey\u001b[0m\u001b[0;34m]\u001b[0m\u001b[0;34m[\u001b[0m\u001b[0;34m'char_dialogues'\u001b[0m\u001b[0;34m]\u001b[0m\u001b[0;34m:\u001b[0m\u001b[0;34m\u001b[0m\u001b[0;34m\u001b[0m\u001b[0m\n\u001b[0m\u001b[1;32m     33\u001b[0m             \u001b[0mchars\u001b[0m\u001b[0;34m.\u001b[0m\u001b[0madd\u001b[0m\u001b[0;34m(\u001b[0m\u001b[0mdialogue\u001b[0m\u001b[0;34m[\u001b[0m\u001b[0;36m1\u001b[0m\u001b[0;34m]\u001b[0m\u001b[0;34m)\u001b[0m \u001b[0;31m#get the speaker of the dialogue\u001b[0m\u001b[0;34m\u001b[0m\u001b[0;34m\u001b[0m\u001b[0m\n\u001b[1;32m     34\u001b[0m     \u001b[0;32mreturn\u001b[0m \u001b[0mlist\u001b[0m\u001b[0;34m(\u001b[0m\u001b[0mchars\u001b[0m\u001b[0;34m)\u001b[0m\u001b[0;34m\u001b[0m\u001b[0;34m\u001b[0m\u001b[0m\n",
            "\u001b[0;31mTypeError\u001b[0m: string indices must be integers"
          ]
        }
      ]
    },
    {
      "cell_type": "code",
      "metadata": {
        "id": "v_dOWram57kj",
        "colab": {
          "base_uri": "https://localhost:8080/",
          "height": 231
        },
        "outputId": "14d08aff-454e-4624-e789-67f72e9728a5"
      },
      "source": [
        "for graph in graphs:\n",
        "    edge_weights = [graph[u][v]['weight'] for u,v in graph.edges()]\n",
        "    pos = nx.spectral_layout(graph)\n",
        "    plt.figure(figsize=(10,10))\n",
        "    nx.draw_networkx(graph, with_labels=True, width=edge_weights, alpha=0.5); plt.show()"
      ],
      "execution_count": null,
      "outputs": [
        {
          "output_type": "error",
          "ename": "NameError",
          "evalue": "ignored",
          "traceback": [
            "\u001b[0;31m---------------------------------------------------------------------------\u001b[0m",
            "\u001b[0;31mNameError\u001b[0m                                 Traceback (most recent call last)",
            "\u001b[0;32m<ipython-input-19-800ae16e4af1>\u001b[0m in \u001b[0;36m<module>\u001b[0;34m()\u001b[0m\n\u001b[0;32m----> 1\u001b[0;31m \u001b[0;32mfor\u001b[0m \u001b[0mgraph\u001b[0m \u001b[0;32min\u001b[0m \u001b[0mgraphs\u001b[0m\u001b[0;34m:\u001b[0m\u001b[0;34m\u001b[0m\u001b[0;34m\u001b[0m\u001b[0m\n\u001b[0m\u001b[1;32m      2\u001b[0m     \u001b[0medge_weights\u001b[0m \u001b[0;34m=\u001b[0m \u001b[0;34m[\u001b[0m\u001b[0mgraph\u001b[0m\u001b[0;34m[\u001b[0m\u001b[0mu\u001b[0m\u001b[0;34m]\u001b[0m\u001b[0;34m[\u001b[0m\u001b[0mv\u001b[0m\u001b[0;34m]\u001b[0m\u001b[0;34m[\u001b[0m\u001b[0;34m'weight'\u001b[0m\u001b[0;34m]\u001b[0m \u001b[0;32mfor\u001b[0m \u001b[0mu\u001b[0m\u001b[0;34m,\u001b[0m\u001b[0mv\u001b[0m \u001b[0;32min\u001b[0m \u001b[0mgraph\u001b[0m\u001b[0;34m.\u001b[0m\u001b[0medges\u001b[0m\u001b[0;34m(\u001b[0m\u001b[0;34m)\u001b[0m\u001b[0;34m]\u001b[0m\u001b[0;34m\u001b[0m\u001b[0;34m\u001b[0m\u001b[0m\n\u001b[1;32m      3\u001b[0m     \u001b[0mpos\u001b[0m \u001b[0;34m=\u001b[0m \u001b[0mnx\u001b[0m\u001b[0;34m.\u001b[0m\u001b[0mspectral_layout\u001b[0m\u001b[0;34m(\u001b[0m\u001b[0mgraph\u001b[0m\u001b[0;34m)\u001b[0m\u001b[0;34m\u001b[0m\u001b[0;34m\u001b[0m\u001b[0m\n\u001b[1;32m      4\u001b[0m     \u001b[0mplt\u001b[0m\u001b[0;34m.\u001b[0m\u001b[0mfigure\u001b[0m\u001b[0;34m(\u001b[0m\u001b[0mfigsize\u001b[0m\u001b[0;34m=\u001b[0m\u001b[0;34m(\u001b[0m\u001b[0;36m10\u001b[0m\u001b[0;34m,\u001b[0m\u001b[0;36m10\u001b[0m\u001b[0;34m)\u001b[0m\u001b[0;34m)\u001b[0m\u001b[0;34m\u001b[0m\u001b[0;34m\u001b[0m\u001b[0m\n\u001b[1;32m      5\u001b[0m     \u001b[0mnx\u001b[0m\u001b[0;34m.\u001b[0m\u001b[0mdraw_networkx\u001b[0m\u001b[0;34m(\u001b[0m\u001b[0mgraph\u001b[0m\u001b[0;34m,\u001b[0m \u001b[0mwith_labels\u001b[0m\u001b[0;34m=\u001b[0m\u001b[0;32mTrue\u001b[0m\u001b[0;34m,\u001b[0m \u001b[0mwidth\u001b[0m\u001b[0;34m=\u001b[0m\u001b[0medge_weights\u001b[0m\u001b[0;34m,\u001b[0m \u001b[0malpha\u001b[0m\u001b[0;34m=\u001b[0m\u001b[0;36m0.5\u001b[0m\u001b[0;34m)\u001b[0m\u001b[0;34m;\u001b[0m \u001b[0mplt\u001b[0m\u001b[0;34m.\u001b[0m\u001b[0mshow\u001b[0m\u001b[0;34m(\u001b[0m\u001b[0;34m)\u001b[0m\u001b[0;34m\u001b[0m\u001b[0;34m\u001b[0m\u001b[0m\n",
            "\u001b[0;31mNameError\u001b[0m: name 'graphs' is not defined"
          ]
        }
      ]
    },
    {
      "cell_type": "code",
      "metadata": {
        "id": "I1OLVx389AaR"
      },
      "source": [
        ""
      ],
      "execution_count": null,
      "outputs": []
    },
    {
      "cell_type": "code",
      "metadata": {
        "id": "v2aFzYM457k1"
      },
      "source": [
        ""
      ],
      "execution_count": null,
      "outputs": []
    }
  ]
}